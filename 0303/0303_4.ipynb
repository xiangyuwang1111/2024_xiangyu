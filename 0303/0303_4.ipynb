{
 "cells": [
  {
   "cell_type": "code",
   "execution_count": null,
   "metadata": {},
   "outputs": [],
   "source": [
    "#dictionary[type,type]={key:value}\n",
    "codes={'tw':'Taiwan','jp':'japan','HK':'Honkong'}\n",
    "codes"
   ]
  },
  {
   "cell_type": "code",
   "execution_count": null,
   "metadata": {},
   "outputs": [],
   "source": [
    "#subscript\n",
    "codes['jp']\n",
    "codes['US']=\"America\"\n",
    "codes"
   ]
  },
  {
   "cell_type": "code",
   "execution_count": null,
   "metadata": {},
   "outputs": [],
   "source": [
    "for key in codes:\n",
    "    print(key)\n",
    "    print(codes[key])\n",
    "    print('=======')"
   ]
  },
  {
   "cell_type": "code",
   "execution_count": null,
   "metadata": {},
   "outputs": [],
   "source": [
    "for key in codes.keys():\n",
    "    print(key,end=' ')\n",
    "print()\n",
    "for value in codes.values():\n",
    "    print (value,end=' ')\n",
    "print()\n",
    "for item in codes.items():\n",
    "    print(item,end=' ')"
   ]
  },
  {
   "cell_type": "code",
   "execution_count": null,
   "metadata": {},
   "outputs": [],
   "source": [
    "from random import randint\n",
    "stu1:dict[str,int]={\n",
    "    'Chinese':randint(50,100),\n",
    "    'English':randint(50,100),\n",
    "    'Math':randint(50,100),\n",
    "    'Science':randint(50,100),\n",
    "    }\n",
    "stu1"
   ]
  },
  {
   "cell_type": "code",
   "execution_count": null,
   "metadata": {},
   "outputs": [],
   "source": [
    "stu2:dict[str,int]={}\n",
    "for key in ['Chinese','English','Math','Science']:\n",
    "    stu2[key]=randint(50,100)\n",
    "print(stu2)\n",
    "sum=0\n",
    "for value in stu2.values():\n",
    "    sum+=value\n",
    "print(f'Total score={sum}')"
   ]
  },
  {
   "cell_type": "code",
   "execution_count": null,
   "metadata": {},
   "outputs": [],
   "source": [
    "#comprehension 快速建立\n",
    "stu3:dict[str,int]={key:randint(50,100) for key in ['Chinese','English','Math','Science']}\n",
    "stu3"
   ]
  }
 ],
 "metadata": {
  "kernelspec": {
   "display_name": "Python 3",
   "language": "python",
   "name": "python3"
  },
  "language_info": {
   "codemirror_mode": {
    "name": "ipython",
    "version": 3
   },
   "file_extension": ".py",
   "mimetype": "text/x-python",
   "name": "python",
   "nbconvert_exporter": "python",
   "pygments_lexer": "ipython3",
   "version": "3.10.13"
  }
 },
 "nbformat": 4,
 "nbformat_minor": 2
}
