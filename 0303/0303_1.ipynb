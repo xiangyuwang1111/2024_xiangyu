{
 "cells": [
  {
   "cell_type": "code",
   "execution_count": null,
   "metadata": {},
   "outputs": [],
   "source": [
    "t1=(1,2,3,4) #tuple \n",
    "#tuple的內容不能更改\n",
    "#t1[1]=9 會error\n",
    "print(t1[1])"
   ]
  },
  {
   "cell_type": "code",
   "execution_count": null,
   "metadata": {},
   "outputs": [],
   "source": [
    "l1=[1,2,3,4] #list\n",
    "#list的內容可以更改\n",
    "l1[0]=7\n",
    "print(l1[0])"
   ]
  },
  {
   "cell_type": "code",
   "execution_count": null,
   "metadata": {},
   "outputs": [],
   "source": [
    "#list 最好要提示資料型態\n",
    "empty_list: list[int]=[]\n",
    "empty_list: list[str]=list()\n",
    "weekday: list[str]=[\"Monday\",\"Tuesday\",\"Wednesday\",\"Thursday\",\"Friday\"]\n",
    "for day in weekday:\n",
    "    print(day)"
   ]
  },
  {
   "cell_type": "code",
   "execution_count": null,
   "metadata": {},
   "outputs": [],
   "source": [
    "for item in enumerate(weekday):\n",
    "    print(item)"
   ]
  },
  {
   "cell_type": "code",
   "execution_count": null,
   "metadata": {},
   "outputs": [],
   "source": [
    "for index,value in enumerate(weekday):\n",
    "    print(f\"索引編號:{index},值是:{value}\")\n",
    "    #print(index)\n",
    "    #print(value)"
   ]
  },
  {
   "cell_type": "code",
   "execution_count": null,
   "metadata": {},
   "outputs": [],
   "source": [
    "list1=list(\"Hello World\")\n",
    "list1"
   ]
  },
  {
   "cell_type": "code",
   "execution_count": null,
   "metadata": {},
   "outputs": [],
   "source": [
    "list1=list(\"Hello World\")\n",
    "#subscript[前面編號:後面編號]\n",
    "#前面不寫代表最前面\n",
    "#後面不寫，代表最後(包含)\n",
    "list1[3:5]\n",
    "list1[-5:-1]#-1最後一個不包含，-5表示後5個\n",
    "list1[:5]#前五個\n",
    "list1[-5:]#後五個"
   ]
  }
 ],
 "metadata": {
  "kernelspec": {
   "display_name": "Python 3",
   "language": "python",
   "name": "python3"
  },
  "language_info": {
   "codemirror_mode": {
    "name": "ipython",
    "version": 3
   },
   "file_extension": ".py",
   "mimetype": "text/x-python",
   "name": "python",
   "nbconvert_exporter": "python",
   "pygments_lexer": "ipython3",
   "version": "3.10.13"
  }
 },
 "nbformat": 4,
 "nbformat_minor": 2
}
