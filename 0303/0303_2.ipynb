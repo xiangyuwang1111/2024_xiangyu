{
 "cells": [
  {
   "cell_type": "code",
   "execution_count": 2,
   "metadata": {},
   "outputs": [
    {
     "name": "stdout",
     "output_type": "stream",
     "text": [
      "[['筆記型電腦', '電競筆電', '桌機'], ['Apple', 'samsung', 'ASUS'], ['冰箱', '洗衣機', '電視']]\n"
     ]
    }
   ],
   "source": [
    "#二維資料\n",
    "nb=[\"筆記型電腦\",\"電競筆電\",\"桌機\"]\n",
    "mobile=[\"Apple\",\"samsung\",\"ASUS\"]\n",
    "home=[\"冰箱\",\"洗衣機\",\"電視\"]\n",
    "arr=[nb,mobile,home]\n",
    "print(arr)"
   ]
  },
  {
   "cell_type": "code",
   "execution_count": null,
   "metadata": {},
   "outputs": [],
   "source": []
  }
 ],
 "metadata": {
  "kernelspec": {
   "display_name": "Python 3",
   "language": "python",
   "name": "python3"
  },
  "language_info": {
   "codemirror_mode": {
    "name": "ipython",
    "version": 3
   },
   "file_extension": ".py",
   "mimetype": "text/x-python",
   "name": "python",
   "nbconvert_exporter": "python",
   "pygments_lexer": "ipython3",
   "version": "3.10.13"
  }
 },
 "nbformat": 4,
 "nbformat_minor": 2
}
