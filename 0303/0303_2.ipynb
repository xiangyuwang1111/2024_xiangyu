{
 "cells": [
  {
   "cell_type": "code",
   "execution_count": 2,
   "metadata": {},
   "outputs": [
    {
     "name": "stdout",
     "output_type": "stream",
     "text": [
      "[['筆記型電腦', '電競筆電', '桌機'], ['Apple', 'samsung', 'ASUS'], ['冰箱', '洗衣機', '電視']]\n"
     ]
    }
   ],
   "source": [
    "#二維資料 sequence\n",
    "nb=[\"筆記型電腦\",\"電競筆電\",\"桌機\"]\n",
    "mobile=[\"Apple\",\"samsung\",\"ASUS\"]\n",
    "home=[\"冰箱\",\"洗衣機\",\"電視\"]\n",
    "arr=[nb,mobile,home]\n",
    "print(arr)"
   ]
  },
  {
   "cell_type": "code",
   "execution_count": 4,
   "metadata": {},
   "outputs": [
    {
     "name": "stdout",
     "output_type": "stream",
     "text": [
      "[['冰箱', '洗衣機', '電視'], ['Apple', 'samsung', 'ASUS'], ['筆記型電腦', '電競筆電', '桌機']]\n"
     ]
    }
   ],
   "source": [
    "nb=[\"筆記型電腦\",\"電競筆電\",\"桌機\"]\n",
    "mobile=[\"Apple\",\"samsung\",\"ASUS\"]\n",
    "home=[\"冰箱\",\"洗衣機\",\"電視\"]\n",
    "all3c=[]\n",
    "all3c.append(nb)\n",
    "all3c.append(mobile)\n",
    "all3c.append(home)\n",
    "all3c.reverse()\n",
    "print(all3c)"
   ]
  },
  {
   "cell_type": "code",
   "execution_count": 6,
   "metadata": {},
   "outputs": [
    {
     "name": "stdout",
     "output_type": "stream",
     "text": [
      "[99, 98, 90, 88]\n"
     ]
    }
   ],
   "source": [
    "from random import randint \n",
    "stu1=[randint(50,100),randint(50,100),randint(50,100),randint(50,100)]\n",
    "print(stu1)"
   ]
  },
  {
   "cell_type": "code",
   "execution_count": 2,
   "metadata": {},
   "outputs": [
    {
     "data": {
      "text/plain": [
       "[91, 53, 90, 85, 69]"
      ]
     },
     "execution_count": 2,
     "metadata": {},
     "output_type": "execute_result"
    }
   ],
   "source": [
    "from random import randint\n",
    "stu2=[]\n",
    "for i in range(5):\n",
    "    stu2.append(randint(50,100))\n",
    "#i沒有用到，可以用_表示\n",
    "#for _ in range(5):\n",
    "# stu2.append(randint(50,100))\n",
    "stu2"
   ]
  }
 ],
 "metadata": {
  "kernelspec": {
   "display_name": "Python 3",
   "language": "python",
   "name": "python3"
  },
  "language_info": {
   "codemirror_mode": {
    "name": "ipython",
    "version": 3
   },
   "file_extension": ".py",
   "mimetype": "text/x-python",
   "name": "python",
   "nbconvert_exporter": "python",
   "pygments_lexer": "ipython3",
   "version": "3.10.13"
  }
 },
 "nbformat": 4,
 "nbformat_minor": 2
}
