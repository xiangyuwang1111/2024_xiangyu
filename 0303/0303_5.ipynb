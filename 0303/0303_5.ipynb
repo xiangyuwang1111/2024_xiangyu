{
 "cells": [
  {
   "cell_type": "code",
   "execution_count": 7,
   "metadata": {},
   "outputs": [
    {
     "name": "stdout",
     "output_type": "stream",
     "text": [
      "The file is close.\n"
     ]
    }
   ],
   "source": [
    "file=open('names.txt',encoding='utf-8')\n",
    "file.close()\n",
    "if(file.closed):\n",
    "    print('The file is close.')\n",
    "else:\n",
    "    print('The file is open.')"
   ]
  },
  {
   "cell_type": "code",
   "execution_count": null,
   "metadata": {},
   "outputs": [],
   "source": [
    "#跳出程式區塊自動關閉\n",
    "with open('names.txt',encoding='utf-8') as file:\n",
    "    for i in file:\n",
    "        print(file.readline())\n",
    "    for i in file:\n",
    "        display(file.readline())#會秀出格式(換行符號)"
   ]
  },
  {
   "cell_type": "code",
   "execution_count": null,
   "metadata": {},
   "outputs": [],
   "source": [
    "with open('names.txt',encoding='utf-8') as file:\n",
    "    names=file.read()\n",
    "names_list:list[str]=names.split(sep='\\n',maxsplit=5)#maxsplit:只執行幾個\n",
    "names_list"
   ]
  },
  {
   "cell_type": "code",
   "execution_count": 10,
   "metadata": {},
   "outputs": [
    {
     "data": {
      "text/plain": [
       "['葉軍仰', '蔡偉成', '楊健麟']"
      ]
     },
     "execution_count": 10,
     "metadata": {},
     "output_type": "execute_result"
    }
   ],
   "source": [
    "import random\n",
    "with open('names.txt',encoding='utf-8') as file:\n",
    "    names=file.read()\n",
    "names_list:list[str]=names.split(sep='\\n')\n",
    "random.choices(names_list,k=3)#k:取幾個"
   ]
  },
  {
   "cell_type": "code",
   "execution_count": 11,
   "metadata": {},
   "outputs": [
    {
     "data": {
      "text/plain": [
       "['林希啟']"
      ]
     },
     "execution_count": 11,
     "metadata": {},
     "output_type": "execute_result"
    }
   ],
   "source": [
    "import random\n",
    "def get_names(nums=1):#預設數量是1\n",
    "    with open('names.txt',encoding='utf-8') as file:\n",
    "        names=file.read()\n",
    "    names_list:list[str]=names.split(sep='\\n')\n",
    "    return random.choices(names_list,k=nums)\n",
    "\n",
    "get_names()"
   ]
  },
  {
   "cell_type": "code",
   "execution_count": null,
   "metadata": {},
   "outputs": [],
   "source": [
    "from random import randint\n",
    "names:list[str]=get_names(50)\n",
    "students:list[dict]=[]\n",
    "for name in names:\n",
    "    student:dict={'Name':name}\n",
    "    for subject in ['Chinese','English','Math','Science']:\n",
    "        student[subject]=randint(50,100)\n",
    "    students.append(student)\n",
    "students"
   ]
  }
 ],
 "metadata": {
  "kernelspec": {
   "display_name": "Python 3",
   "language": "python",
   "name": "python3"
  },
  "language_info": {
   "codemirror_mode": {
    "name": "ipython",
    "version": 3
   },
   "file_extension": ".py",
   "mimetype": "text/x-python",
   "name": "python",
   "nbconvert_exporter": "python",
   "pygments_lexer": "ipython3",
   "version": "3.10.13"
  }
 },
 "nbformat": 4,
 "nbformat_minor": 2
}
