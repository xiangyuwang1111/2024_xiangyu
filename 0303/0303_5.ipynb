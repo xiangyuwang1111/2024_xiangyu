{
 "cells": [
  {
   "cell_type": "code",
   "execution_count": null,
   "metadata": {},
   "outputs": [],
   "source": [
    "from random import randint\n",
    "from pprint import pprint\n",
    "students: list[dict[str,int]]=[]\n",
    "for _ in range(10):\n",
    "    stu:dict[str,int]={key:randint(50,100) for key in ['Chinese','English','Math','Science']}\n",
    "    students.append(stu)\n",
    "pprint(students)"
   ]
  },
  {
   "cell_type": "code",
   "execution_count": null,
   "metadata": {},
   "outputs": [],
   "source": [
    "for student in students:\n",
    "    for i in ['English','Science','Math','Chinese']:\n",
    "        print(f'{i}={student[i]}',end=' ')\n",
    "    print()"
   ]
  }
 ],
 "metadata": {
  "kernelspec": {
   "display_name": "Python 3",
   "language": "python",
   "name": "python3"
  },
  "language_info": {
   "codemirror_mode": {
    "name": "ipython",
    "version": 3
   },
   "file_extension": ".py",
   "mimetype": "text/x-python",
   "name": "python",
   "nbconvert_exporter": "python",
   "pygments_lexer": "ipython3",
   "version": "3.10.13"
  }
 },
 "nbformat": 4,
 "nbformat_minor": 2
}
