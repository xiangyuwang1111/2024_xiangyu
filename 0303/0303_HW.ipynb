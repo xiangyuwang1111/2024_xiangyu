{
 "cells": [
  {
   "cell_type": "code",
   "execution_count": null,
   "metadata": {},
   "outputs": [],
   "source": [
    "import random\n",
    "def get_name()->str:\n",
    "    with open('names.txt') as file:\n",
    "        name=file.read()\n",
    "        names:list[str]=name.split('\\n')\n",
    "    return random.choice(names)\n",
    "\n",
    "def get_suggestion(BMI:float)->str:\n",
    "    if(BMI<18.5):return \"體重過輕\"\n",
    "    elif(BMI>=18.5 and BMI<24):return \"正常範圍\"\n",
    "    elif(BMI>=24 and BMI<27):return \"輕度肥胖\"\n",
    "    elif(BMI>=27 and BMI<30):return \"中度肥胖\"\n",
    "    else:return \"重度肥胖\"\n",
    "\n",
    "def BMI_calculate(height:int,weight:int)->float:\n",
    "    BMI=weight/(height/100)**2\n",
    "    return BMI\n",
    "\n",
    "name=get_name()\n",
    "while(1):\n",
    "    height=int(input(f'請輸入{name}的身高(公分,120-250):'))\n",
    "    weight=int(input(f'請輸入{name}的身高(公分,30-250):'))\n",
    "    if(height<=250 and height>=120 and weight>=30 and weight<=250):\n",
    "        BMI=BMI_calculate(height,weight)\n",
    "        suggestion=get_suggestion(BMI)\n",
    "        print(f'{name}您好:\\n您的BMI是:{BMI:.2f}\\n您的體重:{suggestion}')\n",
    "        break\n",
    "    else:\n",
    "        print('資料格式錯誤，請重新輸入')"
   ]
  }
 ],
 "metadata": {
  "kernelspec": {
   "display_name": "Python 3",
   "language": "python",
   "name": "python3"
  },
  "language_info": {
   "codemirror_mode": {
    "name": "ipython",
    "version": 3
   },
   "file_extension": ".py",
   "mimetype": "text/x-python",
   "name": "python",
   "nbconvert_exporter": "python",
   "pygments_lexer": "ipython3",
   "version": "3.10.13"
  }
 },
 "nbformat": 4,
 "nbformat_minor": 2
}
