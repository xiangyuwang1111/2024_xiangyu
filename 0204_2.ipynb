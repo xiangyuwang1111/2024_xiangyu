{
 "cells": [
  {
   "cell_type": "code",
   "execution_count": 4,
   "metadata": {},
   "outputs": [
    {
     "name": "stdout",
     "output_type": "stream",
     "text": [
      "Your height: 176\n",
      "Your weight: 67.8\n",
      "Your BMI: 21.887913223140497\n"
     ]
    }
   ],
   "source": [
    "height=eval(input(\"Enter your height(cm)\"))\n",
    "weight=eval(input(\"Enter your weight(kg)\"))\n",
    "BMI=weight/(height/100)**2\n",
    "print(\"Your height:\", height)\n",
    "print(\"Your weight:\", weight)\n",
    "print(\"Your BMI:\", BMI)"
   ]
  },
  {
   "cell_type": "code",
   "execution_count": 5,
   "metadata": {},
   "outputs": [
    {
     "name": "stdout",
     "output_type": "stream",
     "text": [
      "Your height: 176\n",
      "Your weight: 67.8\n",
      "Your BMI: 21.8879\n"
     ]
    }
   ],
   "source": [
    "height=eval(input(\"Enter your height(cm)\"))\n",
    "weight=eval(input(\"Enter your weight(kg)\"))\n",
    "BMI=weight/(height/100)**2\n",
    "BMI=round(BMI,4)\n",
    "print(\"Your height:\", height)\n",
    "print(\"Your weight:\", weight)\n",
    "print(\"Your BMI:\", BMI)"
   ]
  },
  {
   "cell_type": "code",
   "execution_count": 9,
   "metadata": {},
   "outputs": [
    {
     "name": "stdout",
     "output_type": "stream",
     "text": [
      "Your height:176\n",
      "Your weight:67.8\n",
      "Your BMI:21.8879\n"
     ]
    }
   ],
   "source": [
    "height=eval(input(\"Enter your height(cm)\"))\n",
    "weight=eval(input(\"Enter your weight(kg)\"))\n",
    "BMI=weight/(height/100)**2\n",
    "BMI=round(BMI,4)\n",
    "print(f\"Your height:{height}\")\n",
    "print(f\"Your weight:{weight}\")\n",
    "print(f\"Your BMI:{BMI}\")"
   ]
  }
 ],
 "metadata": {
  "kernelspec": {
   "display_name": "Python 3",
   "language": "python",
   "name": "python3"
  },
  "language_info": {
   "codemirror_mode": {
    "name": "ipython",
    "version": 3
   },
   "file_extension": ".py",
   "mimetype": "text/x-python",
   "name": "python",
   "nbconvert_exporter": "python",
   "pygments_lexer": "ipython3",
   "version": "3.10.13"
  }
 },
 "nbformat": 4,
 "nbformat_minor": 2
}
