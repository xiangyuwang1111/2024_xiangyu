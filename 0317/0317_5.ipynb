{
 "cells": [
  {
   "cell_type": "code",
   "execution_count": 2,
   "metadata": {},
   "outputs": [
    {
     "name": "stdout",
     "output_type": "stream",
     "text": [
      "下載成功\n"
     ]
    }
   ],
   "source": [
    "#下載csv檔\n",
    "import requests\n",
    "csv_url='https://data.moenv.gov.tw/api/v2/aqx_p_488?api_key=e8dd42e6-9b8b-43f8-991e-b3dee723a52d&limit=1000&sort=datacreationdate desc&format=CSV'\n",
    "res=requests.get(url=csv_url)\n",
    "if res.ok:\n",
    "    print('下載成功')\n",
    "else:\n",
    "    print('下載失敗')"
   ]
  },
  {
   "cell_type": "code",
   "execution_count": null,
   "metadata": {},
   "outputs": [],
   "source": [
    "import io\n",
    "import csv\n",
    "csv_str:str=res.text #csv_str是包含csv資料的字串\n",
    "csv_file=io.StringIO(csv_str) #將csv_str轉為類文件對象\n",
    "dict_reader=csv.DictReader(csv_file) #將每行的資料轉為dict\n",
    "#print(type(dict_reader))\n",
    "csv_data=list(dict_reader) #將資料轉為list\n",
    "for row in csv_data: #印出資料\n",
    "    print(row)\n",
    "#檢查資料類型\n",
    "#保證一定有資料\n",
    "#過濾dict的key"
   ]
  }
 ],
 "metadata": {
  "kernelspec": {
   "display_name": "Python 3",
   "language": "python",
   "name": "python3"
  },
  "language_info": {
   "codemirror_mode": {
    "name": "ipython",
    "version": 3
   },
   "file_extension": ".py",
   "mimetype": "text/x-python",
   "name": "python",
   "nbconvert_exporter": "python",
   "pygments_lexer": "ipython3",
   "version": "3.10.14"
  }
 },
 "nbformat": 4,
 "nbformat_minor": 2
}
