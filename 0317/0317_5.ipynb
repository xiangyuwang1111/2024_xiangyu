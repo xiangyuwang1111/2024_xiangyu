{
 "cells": [
  {
   "cell_type": "code",
   "execution_count": 24,
   "metadata": {},
   "outputs": [
    {
     "name": "stdout",
     "output_type": "stream",
     "text": [
      "下載成功\n"
     ]
    }
   ],
   "source": [
    "#下載csv檔\n",
    "import requests\n",
    "csv_url='https://data.moenv.gov.tw/api/v2/aqx_p_488?api_key=e8dd42e6-9b8b-43f8-991e-b3dee723a52d&limit=1000&sort=datacreationdate desc&format=CSV'\n",
    "res=requests.get(url=csv_url)\n",
    "if res.ok:\n",
    "    print('下載成功')\n",
    "else:\n",
    "    print('下載失敗')"
   ]
  },
  {
   "cell_type": "code",
   "execution_count": null,
   "metadata": {},
   "outputs": [],
   "source": [
    "import io\n",
    "import csv\n",
    "csv_str:str=res.text #csv_str是包含csv資料的字串\n",
    "csv_file=io.StringIO(csv_str) #將csv_str轉為類文件對象\n",
    "dict_reader=csv.DictReader(csv_file) #將每行的資料轉為dict\n",
    "#print(type(dict_reader))\n",
    "csv_data=list(dict_reader) #將資料轉為list\n",
    "for row in csv_data: #印出資料\n",
    "    print(row)\n",
    "#檢查資料類型\n",
    "#保證一定有資料\n",
    "#過濾dict的key"
   ]
  },
  {
   "cell_type": "code",
   "execution_count": 26,
   "metadata": {},
   "outputs": [],
   "source": [
    "from datetime import datetime\n",
    "from pydantic import BaseModel,Field,RootModel\n",
    "class Site(BaseModel):\n",
    "    站點名稱:str=Field(alias='sitename')\n",
    "    城鎮:str=Field(alias='county')\n",
    "    aqi:int=Field\n",
    "    狀態:str=Field(alias='status')\n",
    "    日期:datetime=Field(alias='datacreationdate')\n",
    "#適用RootModel的是list\n",
    "#適用BaseModel的是dict\n",
    "class Csvroot(RootModel):\n",
    "    root:list[Site]\n",
    "    def __iter__(self):\n",
    "        return iter(self.root)\n",
    "    \n",
    "    def __getitem__(self, item):\n",
    "        return self.root[item]"
   ]
  },
  {
   "cell_type": "code",
   "execution_count": 27,
   "metadata": {},
   "outputs": [
    {
     "data": {
      "text/plain": [
       "__main__.Csvroot"
      ]
     },
     "execution_count": 27,
     "metadata": {},
     "output_type": "execute_result"
    }
   ],
   "source": [
    "csv_root=Csvroot.model_validate(csv_data)\n",
    "type(csv_root)"
   ]
  },
  {
   "cell_type": "code",
   "execution_count": null,
   "metadata": {},
   "outputs": [],
   "source": [
    "for site in csv_root:\n",
    "    print(type(site))"
   ]
  },
  {
   "cell_type": "code",
   "execution_count": null,
   "metadata": {},
   "outputs": [],
   "source": [
    "for site in csv_root:\n",
    "    print(site)"
   ]
  },
  {
   "cell_type": "code",
   "execution_count": null,
   "metadata": {},
   "outputs": [],
   "source": [
    "for site in csv_root:\n",
    "    print(site.model_dump())"
   ]
  },
  {
   "cell_type": "code",
   "execution_count": 38,
   "metadata": {},
   "outputs": [
    {
     "name": "stdout",
     "output_type": "stream",
     "text": [
      "存檔成功\n"
     ]
    }
   ],
   "source": [
    "with open('new_aqi.csv', mode='w', encoding='utf-8', newline='') as file:\n",
    "    #dict_writer=csv.DictWriter(file, fieldnames=['站點名稱', '城鎮', 'aqi', '狀態', '日期'])\n",
    "    dict_writer=csv.DictWriter(file, fieldnames=list(Site.model_fields.keys()))\n",
    "    dict_writer.writeheader()\n",
    "    for site in csv_root:\n",
    "        dict_writer.writerow(site.model_dump())\n",
    "print('存檔成功')\n"
   ]
  },
  {
   "cell_type": "code",
   "execution_count": 45,
   "metadata": {},
   "outputs": [
    {
     "data": {
      "text/plain": [
       "['站點名稱', '城鎮', 'aqi', '狀態', '日期']"
      ]
     },
     "execution_count": 45,
     "metadata": {},
     "output_type": "execute_result"
    }
   ],
   "source": [
    "#type(Site.model_fields)\n",
    "#快速寫入fieldnames\n",
    "list(Site.model_fields.keys())"
   ]
  }
 ],
 "metadata": {
  "kernelspec": {
   "display_name": "Python 3",
   "language": "python",
   "name": "python3"
  },
  "language_info": {
   "codemirror_mode": {
    "name": "ipython",
    "version": 3
   },
   "file_extension": ".py",
   "mimetype": "text/x-python",
   "name": "python",
   "nbconvert_exporter": "python",
   "pygments_lexer": "ipython3",
   "version": "3.10.14"
  }
 },
 "nbformat": 4,
 "nbformat_minor": 2
}
