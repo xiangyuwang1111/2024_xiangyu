{
 "cells": [
  {
   "cell_type": "code",
   "execution_count": 2,
   "metadata": {},
   "outputs": [
    {
     "name": "stdout",
     "output_type": "stream",
     "text": [
      "下載成功\n"
     ]
    }
   ],
   "source": [
    "#下載csv檔\n",
    "import requests\n",
    "csv_url='https://data.moenv.gov.tw/api/v2/aqx_p_488?api_key=e8dd42e6-9b8b-43f8-991e-b3dee723a52d&limit=1000&sort=datacreationdate desc&format=CSV'\n",
    "res=requests.get(url=csv_url)\n",
    "if res.ok:\n",
    "    print('下載成功')\n",
    "else:\n",
    "    print('下載失敗')"
   ]
  },
  {
   "cell_type": "code",
   "execution_count": null,
   "metadata": {},
   "outputs": [],
   "source": [
    "import io\n",
    "import csv\n",
    "csv_str:str=res.text #csv_str是包含csv資料的字串\n",
    "csv_file=io.StringIO(csv_str) #將csv_str轉為類文件對象\n",
    "dict_reader=csv.DictReader(csv_file) #將每行的資料轉為dict\n",
    "#print(type(dict_reader))\n",
    "csv_data=list(dict_reader) #將資料轉為list\n",
    "for row in csv_data: #印出資料\n",
    "    print(row)\n",
    "#檢查資料類型\n",
    "#保證一定有資料\n",
    "#過濾dict的key"
   ]
  },
  {
   "cell_type": "code",
   "execution_count": 4,
   "metadata": {},
   "outputs": [],
   "source": [
    "from datetime import datetime\n",
    "from pydantic import BaseModel,Field,RootModel\n",
    "class Site(BaseModel):\n",
    "    站點名稱:str=Field(alias='sitename')\n",
    "    城鎮:str=Field(alias='county')\n",
    "    aqi:int=Field\n",
    "    狀態:str=Field(alias='status')\n",
    "    日期:datetime=Field(alias='datacreationdate')\n",
    "#適用RootModel的是list\n",
    "#適用BaseModel的是dict\n",
    "class Csvroot(RootModel):\n",
    "    root:list[Site]\n",
    "    def __iter__(self):\n",
    "        return iter(self.root)\n",
    "    \n",
    "    def __getitem__(self, item):\n",
    "        return self.root[item]"
   ]
  },
  {
   "cell_type": "code",
   "execution_count": 5,
   "metadata": {},
   "outputs": [
    {
     "data": {
      "text/plain": [
       "__main__.Csvroot"
      ]
     },
     "execution_count": 5,
     "metadata": {},
     "output_type": "execute_result"
    }
   ],
   "source": [
    "csv_root=Csvroot.model_validate(csv_data)\n",
    "type(csv_root)"
   ]
  },
  {
   "cell_type": "code",
   "execution_count": null,
   "metadata": {},
   "outputs": [],
   "source": [
    "for site in csv_root:\n",
    "    print(type(site))"
   ]
  },
  {
   "cell_type": "code",
   "execution_count": null,
   "metadata": {},
   "outputs": [],
   "source": [
    "for site in csv_root:\n",
    "    print(site)"
   ]
  },
  {
   "cell_type": "code",
   "execution_count": null,
   "metadata": {},
   "outputs": [],
   "source": [
    "for site in csv_root:\n",
    "    print(site.model_dump())"
   ]
  },
  {
   "cell_type": "code",
   "execution_count": 9,
   "metadata": {},
   "outputs": [
    {
     "name": "stdout",
     "output_type": "stream",
     "text": [
      "存檔成功\n"
     ]
    }
   ],
   "source": [
    "with open('new_aqi.csv', mode='w', encoding='utf-8', newline='') as file:\n",
    "    #dict_writer=csv.DictWriter(file, fieldnames=['站點名稱', '城鎮', 'aqi', '狀態', '日期'])\n",
    "    dict_writer=csv.DictWriter(file, fieldnames=list(Site.model_fields.keys()))\n",
    "    dict_writer.writeheader()\n",
    "    for site in csv_root:\n",
    "        dict_writer.writerow(site.model_dump())\n",
    "print('存檔成功')\n"
   ]
  },
  {
   "cell_type": "code",
   "execution_count": 10,
   "metadata": {},
   "outputs": [
    {
     "data": {
      "text/plain": [
       "['站點名稱', '城鎮', 'aqi', '狀態', '日期']"
      ]
     },
     "execution_count": 10,
     "metadata": {},
     "output_type": "execute_result"
    }
   ],
   "source": [
    "#type(Site.model_fields)\n",
    "#快速寫入fieldnames\n",
    "list(Site.model_fields.keys())"
   ]
  },
  {
   "cell_type": "code",
   "execution_count": 11,
   "metadata": {},
   "outputs": [],
   "source": [
    "#寫json檔\n",
    "json_str=csv_root.model_dump_json()\n",
    "with open('new_aqi.json', mode='w', encoding='utf-8') as jsonFile:\n",
    "    jsonFile.write(json_str)"
   ]
  },
  {
   "cell_type": "code",
   "execution_count": 13,
   "metadata": {},
   "outputs": [
    {
     "data": {
      "text/html": [
       "<div>\n",
       "<style scoped>\n",
       "    .dataframe tbody tr th:only-of-type {\n",
       "        vertical-align: middle;\n",
       "    }\n",
       "\n",
       "    .dataframe tbody tr th {\n",
       "        vertical-align: top;\n",
       "    }\n",
       "\n",
       "    .dataframe thead th {\n",
       "        text-align: right;\n",
       "    }\n",
       "</style>\n",
       "<table border=\"1\" class=\"dataframe\">\n",
       "  <thead>\n",
       "    <tr style=\"text-align: right;\">\n",
       "      <th></th>\n",
       "      <th>站點名稱</th>\n",
       "      <th>城鎮</th>\n",
       "      <th>aqi</th>\n",
       "      <th>狀態</th>\n",
       "      <th>日期</th>\n",
       "    </tr>\n",
       "  </thead>\n",
       "  <tbody>\n",
       "    <tr>\n",
       "      <th>0</th>\n",
       "      <td>屏東(枋山)</td>\n",
       "      <td>屏東縣</td>\n",
       "      <td>21</td>\n",
       "      <td>良好</td>\n",
       "      <td>2024-07-03 21:00:00</td>\n",
       "    </tr>\n",
       "    <tr>\n",
       "      <th>1</th>\n",
       "      <td>大甲（日南國小）</td>\n",
       "      <td>臺中市</td>\n",
       "      <td>27</td>\n",
       "      <td>良好</td>\n",
       "      <td>2024-07-03 21:00:00</td>\n",
       "    </tr>\n",
       "    <tr>\n",
       "      <th>2</th>\n",
       "      <td>新北(樹林)</td>\n",
       "      <td>新北市</td>\n",
       "      <td>31</td>\n",
       "      <td>良好</td>\n",
       "      <td>2024-07-03 21:00:00</td>\n",
       "    </tr>\n",
       "    <tr>\n",
       "      <th>3</th>\n",
       "      <td>屏東（琉球）</td>\n",
       "      <td>屏東縣</td>\n",
       "      <td>22</td>\n",
       "      <td>良好</td>\n",
       "      <td>2024-07-03 21:00:00</td>\n",
       "    </tr>\n",
       "    <tr>\n",
       "      <th>4</th>\n",
       "      <td>臺南（麻豆）</td>\n",
       "      <td>臺南市</td>\n",
       "      <td>23</td>\n",
       "      <td>良好</td>\n",
       "      <td>2024-07-03 21:00:00</td>\n",
       "    </tr>\n",
       "    <tr>\n",
       "      <th>...</th>\n",
       "      <td>...</td>\n",
       "      <td>...</td>\n",
       "      <td>...</td>\n",
       "      <td>...</td>\n",
       "      <td>...</td>\n",
       "    </tr>\n",
       "    <tr>\n",
       "      <th>995</th>\n",
       "      <td>頭份</td>\n",
       "      <td>苗栗縣</td>\n",
       "      <td>24</td>\n",
       "      <td>良好</td>\n",
       "      <td>2024-07-03 10:00:00</td>\n",
       "    </tr>\n",
       "    <tr>\n",
       "      <th>996</th>\n",
       "      <td>新竹</td>\n",
       "      <td>新竹市</td>\n",
       "      <td>14</td>\n",
       "      <td>良好</td>\n",
       "      <td>2024-07-03 10:00:00</td>\n",
       "    </tr>\n",
       "    <tr>\n",
       "      <th>997</th>\n",
       "      <td>竹東</td>\n",
       "      <td>新竹縣</td>\n",
       "      <td>16</td>\n",
       "      <td>良好</td>\n",
       "      <td>2024-07-03 10:00:00</td>\n",
       "    </tr>\n",
       "    <tr>\n",
       "      <th>998</th>\n",
       "      <td>湖口</td>\n",
       "      <td>新竹縣</td>\n",
       "      <td>29</td>\n",
       "      <td>良好</td>\n",
       "      <td>2024-07-03 10:00:00</td>\n",
       "    </tr>\n",
       "    <tr>\n",
       "      <th>999</th>\n",
       "      <td>龍潭</td>\n",
       "      <td>桃園市</td>\n",
       "      <td>20</td>\n",
       "      <td>良好</td>\n",
       "      <td>2024-07-03 10:00:00</td>\n",
       "    </tr>\n",
       "  </tbody>\n",
       "</table>\n",
       "<p>1000 rows × 5 columns</p>\n",
       "</div>"
      ],
      "text/plain": [
       "         站點名稱   城鎮  aqi  狀態                  日期\n",
       "0      屏東(枋山)  屏東縣   21  良好 2024-07-03 21:00:00\n",
       "1    大甲（日南國小）  臺中市   27  良好 2024-07-03 21:00:00\n",
       "2      新北(樹林)  新北市   31  良好 2024-07-03 21:00:00\n",
       "3      屏東（琉球）  屏東縣   22  良好 2024-07-03 21:00:00\n",
       "4      臺南（麻豆）  臺南市   23  良好 2024-07-03 21:00:00\n",
       "..        ...  ...  ...  ..                 ...\n",
       "995        頭份  苗栗縣   24  良好 2024-07-03 10:00:00\n",
       "996        新竹  新竹市   14  良好 2024-07-03 10:00:00\n",
       "997        竹東  新竹縣   16  良好 2024-07-03 10:00:00\n",
       "998        湖口  新竹縣   29  良好 2024-07-03 10:00:00\n",
       "999        龍潭  桃園市   20  良好 2024-07-03 10:00:00\n",
       "\n",
       "[1000 rows x 5 columns]"
      ]
     },
     "execution_count": 13,
     "metadata": {},
     "output_type": "execute_result"
    }
   ],
   "source": [
    "import pandas\n",
    "from pandas import DataFrame\n",
    "aqi:DataFrame=DataFrame(data=csv_root.model_dump())\n",
    "aqi"
   ]
  }
 ],
 "metadata": {
  "kernelspec": {
   "display_name": "Python 3",
   "language": "python",
   "name": "python3"
  },
  "language_info": {
   "codemirror_mode": {
    "name": "ipython",
    "version": 3
   },
   "file_extension": ".py",
   "mimetype": "text/x-python",
   "name": "python",
   "nbconvert_exporter": "python",
   "pygments_lexer": "ipython3",
   "version": "3.10.14"
  }
 },
 "nbformat": 4,
 "nbformat_minor": 2
}
