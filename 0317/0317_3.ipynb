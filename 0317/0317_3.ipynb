{
 "cells": [
  {
   "cell_type": "code",
   "execution_count": 1,
   "metadata": {},
   "outputs": [
    {
     "name": "stdout",
     "output_type": "stream",
     "text": [
      "下載成功\n"
     ]
    }
   ],
   "source": [
    "import requests\n",
    "url_str='https://data.moenv.gov.tw/api/v2/aqx_p_488?api_key=e8dd42e6-9b8b-43f8-991e-b3dee723a52d&limit=1000&sort=datacreationdate desc&format=JSON'\n",
    "res=requests.get(url_str) #傳出class response\n",
    "if res.status_code==200:\n",
    "    print('下載成功')\n",
    "else:\n",
    "    print('下載失敗')"
   ]
  },
  {
   "cell_type": "code",
   "execution_count": 2,
   "metadata": {},
   "outputs": [],
   "source": [
    "from datetime import datetime\n",
    "from pydantic import BaseModel,Field\n",
    "class Site(BaseModel):\n",
    "    站點名稱:str=Field(alias='sitename')#改名稱\n",
    "    城鎮:str=Field(alias='county')\n",
    "    aqi:int=Field\n",
    "    狀態:str=Field(alias='status')\n",
    "    時間:datetime=Field(alias='datacreationdate')\n",
    "class Root(BaseModel):\n",
    "    records:list[Site]"
   ]
  },
  {
   "cell_type": "code",
   "execution_count": null,
   "metadata": {},
   "outputs": [],
   "source": [
    "root=Root.model_validate(res.json()) #.model_validate()確保資料結構無誤，並返回Root的模型實例\n",
    "for site in root.records:\n",
    "    print(site.model_dump())#model_dump_json()將模型實例轉換為 JSON 字符串的方法，實際上是string。"
   ]
  },
  {
   "cell_type": "code",
   "execution_count": 11,
   "metadata": {},
   "outputs": [
    {
     "name": "stdout",
     "output_type": "stream",
     "text": [
      "<class '__main__.Root'>\n",
      "<class 'list'>\n"
     ]
    }
   ],
   "source": [
    "print(type(root))\n",
    "print(type(root.records))"
   ]
  }
 ],
 "metadata": {
  "kernelspec": {
   "display_name": "Python 3",
   "language": "python",
   "name": "python3"
  },
  "language_info": {
   "codemirror_mode": {
    "name": "ipython",
    "version": 3
   },
   "file_extension": ".py",
   "mimetype": "text/x-python",
   "name": "python",
   "nbconvert_exporter": "python",
   "pygments_lexer": "ipython3",
   "version": "3.10.14"
  }
 },
 "nbformat": 4,
 "nbformat_minor": 2
}
