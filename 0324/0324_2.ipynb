{
 "cells": [
  {
   "cell_type": "code",
   "execution_count": 2,
   "metadata": {},
   "outputs": [],
   "source": [
    "import matplotlib.pyplot as plt #繪圖"
   ]
  },
  {
   "cell_type": "code",
   "execution_count": null,
   "metadata": {},
   "outputs": [],
   "source": [
    "#範例\n",
    "# 1.製作figure (畫布)\n",
    "fig=plt.figure()\n",
    "print(type(fig))\n",
    "\n",
    "# 2.在 1.的figure上製作axes (圖表)\n",
    "ax_1=fig.add_subplot(1, 1, 1)\n",
    "print(type(ax_1))\n",
    "\n",
    "# 3.將圖的數據儲存在axes中\n",
    "X=[0, 1, 2]\n",
    "Y=[3, 4, 5]\n",
    "ax_1.plot(X, Y)\n",
    "plt.show()"
   ]
  },
  {
   "cell_type": "code",
   "execution_count": null,
   "metadata": {},
   "outputs": [],
   "source": [
    "import matplotlib.pyplot as plt\n",
    "fig=plt.figure()\n",
    "ax_1=fig.add_subplot(1, 3, 1) #1行3列中的第一個子圖\n",
    "ax_1.set_title('Axes1')\n",
    "ax_2=fig.add_subplot(1, 3, 2) #1行3列中的第二個子圖\n",
    "ax_2.set_title('Axes2')\n",
    "ax_3=fig.add_subplot(1, 3, 3) #1行3列中的第三個子圖\n",
    "ax_3.set_title('Axes3')\n",
    "\n",
    "plt.show()"
   ]
  },
  {
   "cell_type": "code",
   "execution_count": null,
   "metadata": {},
   "outputs": [],
   "source": [
    "import random\n",
    "days=[num for num in range(1, 32)]\n",
    "celsius1=[round(random.uniform(28.5, 35.2), ndigits=1) for _ in range(1, 32)]\n",
    "celsius2=[round(random.uniform(28.5, 35.2), ndigits=1) for _ in range(1, 32)]\n",
    "fig=plt.figure(figsize=(10, 5))\n",
    "ax=fig.add_subplot(1, 1, 1)\n",
    "ax.set_title('Weather')\n",
    "ax.plot(days, celsius1, 'g.--')#g.-是樣式\n",
    "ax.plot(days, celsius2, 'r.-')\n",
    "ax.set_xlabel('Days')\n",
    "ax.set_ylabel('Celsius')\n",
    "ax.set_xticks(days)\n",
    "ax.legend(['July', 'August'])\n",
    "plt.show()"
   ]
  },
  {
   "cell_type": "code",
   "execution_count": null,
   "metadata": {},
   "outputs": [],
   "source": [
    "import numpy as np\n",
    "import math\n",
    "t=np.arange(0, 2.5, 0.1) #range不能生成 range(0, 2.5, 0.1)\n",
    "y1=np.sin(t*math.pi)\n",
    "y2=np.sin(t*math.pi+math.pi/2)\n",
    "#y3=np.cos(t*math.pi)\n",
    "figure=plt.figure()\n",
    "ax=figure.add_subplot()\n",
    "ax.plot(t, y1, 'r.-')\n",
    "ax.plot(t, y2, 'g.-')\n",
    "#ax.plot(t, y3, 'b.-')\n",
    "plt.show()"
   ]
  },
  {
   "cell_type": "code",
   "execution_count": null,
   "metadata": {},
   "outputs": [],
   "source": [
    "import numpy as np\n",
    "scores=np.random.randint(50, 101, size=(50,5)) #size=(50,)是tuple\n",
    "scores"
   ]
  },
  {
   "cell_type": "code",
   "execution_count": null,
   "metadata": {},
   "outputs": [],
   "source": [
    "print(scores[0])\n",
    "print(scores[0:3])\n",
    "print(scores[0:3, 0])"
   ]
  }
 ],
 "metadata": {
  "kernelspec": {
   "display_name": "Python 3",
   "language": "python",
   "name": "python3"
  },
  "language_info": {
   "codemirror_mode": {
    "name": "ipython",
    "version": 3
   },
   "file_extension": ".py",
   "mimetype": "text/x-python",
   "name": "python",
   "nbconvert_exporter": "python",
   "pygments_lexer": "ipython3",
   "version": "3.10.14"
  }
 },
 "nbformat": 4,
 "nbformat_minor": 2
}
