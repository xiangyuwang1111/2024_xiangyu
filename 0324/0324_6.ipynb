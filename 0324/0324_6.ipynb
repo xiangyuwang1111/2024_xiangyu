{
 "cells": [
  {
   "cell_type": "code",
   "execution_count": 1,
   "metadata": {},
   "outputs": [
    {
     "name": "stdout",
     "output_type": "stream",
     "text": [
      "下載成功\n"
     ]
    }
   ],
   "source": [
    "import requests\n",
    "from requests import Response\n",
    "import pandas as pd\n",
    "aqi_url='https://data.moenv.gov.tw/api/v2/aqx_p_488?api_key=e8dd42e6-9b8b-43f8-991e-b3dee723a52d&limit=1000&sort=datacreationdate%20desc&format=JSON'\n",
    "response:Response=requests.get(aqi_url)\n",
    "if response.status_code==200:\n",
    "    print('下載成功')\n",
    "else:\n",
    "    print('下載失敗')\n",
    "\n",
    "#得到python的資料結構(list或dict)\n",
    "data_base:dict=response.json()\n",
    "\n",
    "#json的字串格式\n",
    "data_json=response.text\n",
    "\n",
    "from pydantic import BaseModel, Field, field_validator\n",
    "class Site(BaseModel):\n",
    "    站點:str=Field(alias='sitename')\n",
    "    縣市:str=Field(alias='county')\n",
    "    aqi:int=Field(alias='aqi')\n",
    "    pm25:float=Field(alias='pm2.5_avg')\n",
    "    時間:str=Field(alias='datacreationdate')\n",
    "    #解決model_validate_json空字串的問題\n",
    "    @field_validator('pm25', mode='before')\n",
    "    @classmethod\n",
    "    def sapce_zero(cls, value):\n",
    "        if value=='':\n",
    "            value=0.0\n",
    "        return value\n",
    "\n",
    "class AQI(BaseModel):\n",
    "    records:list[Site] #records名字要和資料的一樣(json viewer)\n",
    "\n",
    "\n",
    "aqi=AQI.model_validate_json(data_json)\n",
    "#source_data=aqi.model_dump()\n",
    "source_data=aqi.model_dump()['records'] #(aqi.model_dump()的key是records)\n",
    "\n",
    "df1=pd.DataFrame(source_data)"
   ]
  }
 ],
 "metadata": {
  "kernelspec": {
   "display_name": "Python 3",
   "language": "python",
   "name": "python3"
  },
  "language_info": {
   "codemirror_mode": {
    "name": "ipython",
    "version": 3
   },
   "file_extension": ".py",
   "mimetype": "text/x-python",
   "name": "python",
   "nbconvert_exporter": "python",
   "pygments_lexer": "ipython3",
   "version": "3.10.14"
  }
 },
 "nbformat": 4,
 "nbformat_minor": 2
}
