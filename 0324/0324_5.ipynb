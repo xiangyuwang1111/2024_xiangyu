{
 "cells": [
  {
   "cell_type": "code",
   "execution_count": 7,
   "metadata": {},
   "outputs": [
    {
     "name": "stdout",
     "output_type": "stream",
     "text": [
      "下載成功\n"
     ]
    }
   ],
   "source": [
    "import requests\n",
    "from requests import Response\n",
    "aqi_url='https://data.moenv.gov.tw/api/v2/aqx_p_488?api_key=e8dd42e6-9b8b-43f8-991e-b3dee723a52d&limit=1000&sort=datacreationdate%20desc&format=JSON'\n",
    "response:Response=requests.get(aqi_url)\n",
    "if response.status_code==200:\n",
    "    print('下載成功')\n",
    "else:\n",
    "    print('下載失敗')"
   ]
  },
  {
   "cell_type": "code",
   "execution_count": 8,
   "metadata": {},
   "outputs": [],
   "source": [
    "#得到python的資料結構(list或dict)\n",
    "data_base:dict=response.json()"
   ]
  },
  {
   "cell_type": "code",
   "execution_count": 16,
   "metadata": {},
   "outputs": [],
   "source": [
    "#json的字串格式\n",
    "data_json=response.text"
   ]
  },
  {
   "cell_type": "code",
   "execution_count": 20,
   "metadata": {},
   "outputs": [],
   "source": [
    "from pydantic import BaseModel, Field, field_validator\n",
    "class Site(BaseModel):\n",
    "    站點:str=Field(alias='sitename')\n",
    "    縣市:str=Field(alias='county')\n",
    "    aqi:int=Field(alias='aqi')\n",
    "    pm25:float=Field(alias='pm2.5_avg')\n",
    "    時間:str=Field(alias='datacreationdate')\n",
    "    #解決model_validate_json空字串的問題\n",
    "    @field_validator('pm25', mode='before')\n",
    "    @classmethod\n",
    "    def sapce_zero(cls, value):\n",
    "        if value=='':\n",
    "            value=0.0\n",
    "        return value\n",
    "\n",
    "class AQI(BaseModel):\n",
    "    records:list[Site] #records名字要和資料的一樣(json viewer)\n"
   ]
  },
  {
   "cell_type": "code",
   "execution_count": null,
   "metadata": {},
   "outputs": [],
   "source": [
    "aqi=AQI.model_validate_json(data_json)\n",
    "#source_data=aqi.model_dump()\n",
    "source_data=aqi.model_dump()['records'] #(aqi.model_dump()的key是records)\n",
    "source_data"
   ]
  },
  {
   "cell_type": "code",
   "execution_count": 31,
   "metadata": {},
   "outputs": [
    {
     "data": {
      "text/html": [
       "<div>\n",
       "<style scoped>\n",
       "    .dataframe tbody tr th:only-of-type {\n",
       "        vertical-align: middle;\n",
       "    }\n",
       "\n",
       "    .dataframe tbody tr th {\n",
       "        vertical-align: top;\n",
       "    }\n",
       "\n",
       "    .dataframe thead th {\n",
       "        text-align: right;\n",
       "    }\n",
       "</style>\n",
       "<table border=\"1\" class=\"dataframe\">\n",
       "  <thead>\n",
       "    <tr style=\"text-align: right;\">\n",
       "      <th></th>\n",
       "      <th>站點</th>\n",
       "      <th>縣市</th>\n",
       "      <th>aqi</th>\n",
       "      <th>pm25</th>\n",
       "      <th>時間</th>\n",
       "    </tr>\n",
       "  </thead>\n",
       "  <tbody>\n",
       "    <tr>\n",
       "      <th>0</th>\n",
       "      <td>屏東(枋山)</td>\n",
       "      <td>屏東縣</td>\n",
       "      <td>23</td>\n",
       "      <td>0.0</td>\n",
       "      <td>2024-07-08 22:00</td>\n",
       "    </tr>\n",
       "    <tr>\n",
       "      <th>1</th>\n",
       "      <td>大甲（日南國小）</td>\n",
       "      <td>臺中市</td>\n",
       "      <td>22</td>\n",
       "      <td>5.0</td>\n",
       "      <td>2024-07-08 22:00</td>\n",
       "    </tr>\n",
       "    <tr>\n",
       "      <th>2</th>\n",
       "      <td>新北(樹林)</td>\n",
       "      <td>新北市</td>\n",
       "      <td>22</td>\n",
       "      <td>6.3</td>\n",
       "      <td>2024-07-08 22:00</td>\n",
       "    </tr>\n",
       "    <tr>\n",
       "      <th>3</th>\n",
       "      <td>屏東（琉球）</td>\n",
       "      <td>屏東縣</td>\n",
       "      <td>30</td>\n",
       "      <td>9.2</td>\n",
       "      <td>2024-07-08 22:00</td>\n",
       "    </tr>\n",
       "    <tr>\n",
       "      <th>4</th>\n",
       "      <td>臺南（麻豆）</td>\n",
       "      <td>臺南市</td>\n",
       "      <td>23</td>\n",
       "      <td>5.0</td>\n",
       "      <td>2024-07-08 22:00</td>\n",
       "    </tr>\n",
       "    <tr>\n",
       "      <th>...</th>\n",
       "      <td>...</td>\n",
       "      <td>...</td>\n",
       "      <td>...</td>\n",
       "      <td>...</td>\n",
       "      <td>...</td>\n",
       "    </tr>\n",
       "    <tr>\n",
       "      <th>995</th>\n",
       "      <td>頭份</td>\n",
       "      <td>苗栗縣</td>\n",
       "      <td>24</td>\n",
       "      <td>7.3</td>\n",
       "      <td>2024-07-08 11:00</td>\n",
       "    </tr>\n",
       "    <tr>\n",
       "      <th>996</th>\n",
       "      <td>新竹</td>\n",
       "      <td>新竹市</td>\n",
       "      <td>16</td>\n",
       "      <td>4.0</td>\n",
       "      <td>2024-07-08 11:00</td>\n",
       "    </tr>\n",
       "    <tr>\n",
       "      <th>997</th>\n",
       "      <td>竹東</td>\n",
       "      <td>新竹縣</td>\n",
       "      <td>18</td>\n",
       "      <td>5.5</td>\n",
       "      <td>2024-07-08 11:00</td>\n",
       "    </tr>\n",
       "    <tr>\n",
       "      <th>998</th>\n",
       "      <td>湖口</td>\n",
       "      <td>新竹縣</td>\n",
       "      <td>24</td>\n",
       "      <td>7.5</td>\n",
       "      <td>2024-07-08 11:00</td>\n",
       "    </tr>\n",
       "    <tr>\n",
       "      <th>999</th>\n",
       "      <td>龍潭</td>\n",
       "      <td>桃園市</td>\n",
       "      <td>18</td>\n",
       "      <td>4.7</td>\n",
       "      <td>2024-07-08 11:00</td>\n",
       "    </tr>\n",
       "  </tbody>\n",
       "</table>\n",
       "<p>1000 rows × 5 columns</p>\n",
       "</div>"
      ],
      "text/plain": [
       "           站點   縣市  aqi  pm25                時間\n",
       "0      屏東(枋山)  屏東縣   23   0.0  2024-07-08 22:00\n",
       "1    大甲（日南國小）  臺中市   22   5.0  2024-07-08 22:00\n",
       "2      新北(樹林)  新北市   22   6.3  2024-07-08 22:00\n",
       "3      屏東（琉球）  屏東縣   30   9.2  2024-07-08 22:00\n",
       "4      臺南（麻豆）  臺南市   23   5.0  2024-07-08 22:00\n",
       "..        ...  ...  ...   ...               ...\n",
       "995        頭份  苗栗縣   24   7.3  2024-07-08 11:00\n",
       "996        新竹  新竹市   16   4.0  2024-07-08 11:00\n",
       "997        竹東  新竹縣   18   5.5  2024-07-08 11:00\n",
       "998        湖口  新竹縣   24   7.5  2024-07-08 11:00\n",
       "999        龍潭  桃園市   18   4.7  2024-07-08 11:00\n",
       "\n",
       "[1000 rows x 5 columns]"
      ]
     },
     "execution_count": 31,
     "metadata": {},
     "output_type": "execute_result"
    }
   ],
   "source": [
    "import pandas as pd\n",
    "df1=pd.DataFrame(source_data)\n",
    "df1"
   ]
  }
 ],
 "metadata": {
  "kernelspec": {
   "display_name": "Python 3",
   "language": "python",
   "name": "python3"
  },
  "language_info": {
   "codemirror_mode": {
    "name": "ipython",
    "version": 3
   },
   "file_extension": ".py",
   "mimetype": "text/x-python",
   "name": "python",
   "nbconvert_exporter": "python",
   "pygments_lexer": "ipython3",
   "version": "3.10.14"
  }
 },
 "nbformat": 4,
 "nbformat_minor": 2
}
