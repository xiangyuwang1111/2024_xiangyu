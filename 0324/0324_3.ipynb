{
 "cells": [
  {
   "cell_type": "code",
   "execution_count": 1,
   "metadata": {},
   "outputs": [
    {
     "data": {
      "text/plain": [
       "array([[97, 87, 62, 94, 73],\n",
       "       [73, 60, 85, 92, 63],\n",
       "       [85, 81, 84, 99, 60]])"
      ]
     },
     "execution_count": 1,
     "metadata": {},
     "output_type": "execute_result"
    }
   ],
   "source": [
    "import numpy as np\n",
    "scores=np.random.randint(50, 101, size=(3,5)) #3個學生，5個分數\n",
    "scores"
   ]
  },
  {
   "cell_type": "code",
   "execution_count": 3,
   "metadata": {},
   "outputs": [
    {
     "name": "stdout",
     "output_type": "stream",
     "text": [
      "413\n",
      "82.6\n"
     ]
    }
   ],
   "source": [
    "#numpy統計\n",
    "print(np.sum(scores[0]))\n",
    "print(np.average(scores[0]))"
   ]
  },
  {
   "cell_type": "code",
   "execution_count": 7,
   "metadata": {},
   "outputs": [
    {
     "data": {
      "text/html": [
       "<div>\n",
       "<style scoped>\n",
       "    .dataframe tbody tr th:only-of-type {\n",
       "        vertical-align: middle;\n",
       "    }\n",
       "\n",
       "    .dataframe tbody tr th {\n",
       "        vertical-align: top;\n",
       "    }\n",
       "\n",
       "    .dataframe thead th {\n",
       "        text-align: right;\n",
       "    }\n",
       "</style>\n",
       "<table border=\"1\" class=\"dataframe\">\n",
       "  <thead>\n",
       "    <tr style=\"text-align: right;\">\n",
       "      <th></th>\n",
       "      <th>國文</th>\n",
       "      <th>英文</th>\n",
       "      <th>數學</th>\n",
       "      <th>歷史</th>\n",
       "      <th>地理</th>\n",
       "    </tr>\n",
       "  </thead>\n",
       "  <tbody>\n",
       "    <tr>\n",
       "      <th>王XX</th>\n",
       "      <td>97</td>\n",
       "      <td>87</td>\n",
       "      <td>62</td>\n",
       "      <td>94</td>\n",
       "      <td>73</td>\n",
       "    </tr>\n",
       "    <tr>\n",
       "      <th>徐XX</th>\n",
       "      <td>73</td>\n",
       "      <td>60</td>\n",
       "      <td>85</td>\n",
       "      <td>92</td>\n",
       "      <td>63</td>\n",
       "    </tr>\n",
       "    <tr>\n",
       "      <th>林XX</th>\n",
       "      <td>85</td>\n",
       "      <td>81</td>\n",
       "      <td>84</td>\n",
       "      <td>99</td>\n",
       "      <td>60</td>\n",
       "    </tr>\n",
       "  </tbody>\n",
       "</table>\n",
       "</div>"
      ],
      "text/plain": [
       "     國文  英文  數學  歷史  地理\n",
       "王XX  97  87  62  94  73\n",
       "徐XX  73  60  85  92  63\n",
       "林XX  85  81  84  99  60"
      ]
     },
     "execution_count": 7,
     "metadata": {},
     "output_type": "execute_result"
    }
   ],
   "source": [
    "import pandas as pd\n",
    "df=pd.DataFrame(data=scores, columns=['國文', '英文', '數學', '歷史', '地理'], index=['王XX', '徐XX', '林XX'])\n",
    "df"
   ]
  },
  {
   "cell_type": "code",
   "execution_count": 8,
   "metadata": {},
   "outputs": [
    {
     "data": {
      "text/plain": [
       "array([[97, 87, 62, 94, 73],\n",
       "       [73, 60, 85, 92, 63],\n",
       "       [85, 81, 84, 99, 60]])"
      ]
     },
     "execution_count": 8,
     "metadata": {},
     "output_type": "execute_result"
    }
   ],
   "source": [
    "df.values"
   ]
  }
 ],
 "metadata": {
  "kernelspec": {
   "display_name": "Python 3",
   "language": "python",
   "name": "python3"
  },
  "language_info": {
   "codemirror_mode": {
    "name": "ipython",
    "version": 3
   },
   "file_extension": ".py",
   "mimetype": "text/x-python",
   "name": "python",
   "nbconvert_exporter": "python",
   "pygments_lexer": "ipython3",
   "version": "3.10.14"
  }
 },
 "nbformat": 4,
 "nbformat_minor": 2
}
