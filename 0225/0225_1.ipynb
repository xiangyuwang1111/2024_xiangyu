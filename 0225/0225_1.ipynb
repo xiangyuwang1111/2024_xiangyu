{
 "cells": [
  {
   "cell_type": "code",
   "execution_count": null,
   "metadata": {},
   "outputs": [],
   "source": [
    "#try:內容輸入錯誤，直接跳去執行except\n",
    "try:\n",
    "    height=int(input(\"請輸入身高(公分,120-250):\"))\n",
    "    weight=int(input(\"請輸入體重(公斤,30-250):\"))\n",
    "    if(height>=120 and height<=250 and weight>=30 and weight<=250):\n",
    "        print(f\"你的身高:{height}公分\")\n",
    "        print(f\"你的體重:{weight}公斤\")\n",
    "        BMI=weight/((height/100)**2)\n",
    "        print(f\"您的BMI是{BMI:.2f}\")\n",
    "        if(BMI<18.5):print(\"您的體重:體重過輕\")\n",
    "        elif(BMI>=18.5 and BMI<24):print(\"您的體重:正常範圍\")\n",
    "        elif(BMI>=24 and BMI<27):print(\"您的體重:輕度肥胖\")\n",
    "        elif(BMI>=27 and BMI<30):print(\"您的體重:中度肥胖\")\n",
    "        else:print(\"您的體重:重度肥胖\")\n",
    "    else:\n",
    "        print(\"身高或體重超出範圍\")\n",
    "except:\n",
    "    print(\"格式輸入錯誤\")"
   ]
  }
 ],
 "metadata": {
  "kernelspec": {
   "display_name": "Python 3",
   "language": "python",
   "name": "python3"
  },
  "language_info": {
   "codemirror_mode": {
    "name": "ipython",
    "version": 3
   },
   "file_extension": ".py",
   "mimetype": "text/x-python",
   "name": "python",
   "nbconvert_exporter": "python",
   "pygments_lexer": "ipython3",
   "version": "3.10.13"
  }
 },
 "nbformat": 4,
 "nbformat_minor": 2
}
