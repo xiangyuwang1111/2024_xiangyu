{
 "cells": [
  {
   "cell_type": "code",
   "execution_count": 11,
   "metadata": {},
   "outputs": [
    {
     "name": "stdout",
     "output_type": "stream",
     "text": [
      "Please enter an integer number to find all factors:12\n",
      "1 2 3 4 6 12 "
     ]
    }
   ],
   "source": [
    "#find factors\n",
    "import pyinputplus as pyip\n",
    "n=pyip.inputNum(\"Please enter an integer number to find all factors:\")\n",
    "print(n)\n",
    "for i in range (1,n+1):\n",
    "    if(n%i==0):print(i,end=' ')\n",
    "\n"
   ]
  },
  {
   "cell_type": "code",
   "execution_count": 13,
   "metadata": {},
   "outputs": [
    {
     "name": "stdout",
     "output_type": "stream",
     "text": [
      "Please enter an integer number to find all factors:12\n",
      "1 2 3 4 6 12 "
     ]
    }
   ],
   "source": [
    "#find factors\n",
    "import pyinputplus as pyip\n",
    "n=pyip.inputNum(\"Please enter an integer number to find all factors:\")\n",
    "print(n)\n",
    "counter=0\n",
    "while(1):\n",
    "    counter+=1\n",
    "    if(counter>n):break\n",
    "    if(n%counter==0):print(counter,end=' ')\n",
    "\n"
   ]
  },
  {
   "cell_type": "code",
   "execution_count": 22,
   "metadata": {},
   "outputs": [
    {
     "name": "stdout",
     "output_type": "stream",
     "text": [
      "Please enter an integer number to find all factors:998\n",
      "2*499"
     ]
    }
   ],
   "source": [
    "#find factors\n",
    "import pyinputplus as pyip\n",
    "n=pyip.inputNum(\"Please enter an integer number to find all factors:\")\n",
    "print(n)\n",
    "counter=2\n",
    "deg=0\n",
    "while(n!=1):\n",
    "    if(n%counter==0):\n",
    "        while(n%counter==0):\n",
    "            n/=counter\n",
    "            deg+=1\n",
    "        if(deg!=1):\n",
    "            if(n!=1):print(f\"{counter}^{deg}*\",end='')\n",
    "            else:print(f\"{counter}^{deg}\",end='')\n",
    "        else:\n",
    "            if(n!=1):print(f\"{counter}*\",end='')\n",
    "            else:print(f\"{counter}\",end='')\n",
    "    deg=0\n",
    "    counter+=1\n",
    "\n"
   ]
  },
  {
   "cell_type": "code",
   "execution_count": null,
   "metadata": {},
   "outputs": [],
   "source": [
    "#自訂function\n",
    "def getsuggestion(BMI:float)->str:\n",
    "    if(BMI<18.5):return \"體重過輕\"\n",
    "    elif(BMI>=18.5 and BMI<24):return \"正常範圍\"\n",
    "    elif(BMI>=24 and BMI<27):return \"輕度肥胖\"\n",
    "    elif(BMI>=27 and BMI<30):return \"中度肥胖\"\n",
    "    else:return \"重度肥胖\"\n",
    "try:\n",
    "    height=eval(input(\"請輸入身高(公分,120-250):\"))\n",
    "    weight=eval(input(\"請輸入體重(公斤,30-250):\"))\n",
    "    if(height<=250 and height>=120 and weight<=250 and weight>=20):\n",
    "        BMI=weight/(height/100)**2\n",
    "        print(f\"您的BMI:{BMI:.2f}\")\n",
    "        suggestion=getsuggestion(BMI)\n",
    "        print(f\"您的體重:{suggestion}\")\n",
    "    else:print(\"輸入格式錯誤\")\n",
    "except:\n",
    "    print(\"輸入格式錯誤\")"
   ]
  }
 ],
 "metadata": {
  "kernelspec": {
   "display_name": "Python 3",
   "language": "python",
   "name": "python3"
  },
  "language_info": {
   "codemirror_mode": {
    "name": "ipython",
    "version": 3
   },
   "file_extension": ".py",
   "mimetype": "text/x-python",
   "name": "python",
   "nbconvert_exporter": "python",
   "pygments_lexer": "ipython3",
   "version": "3.10.13"
  }
 },
 "nbformat": 4,
 "nbformat_minor": 2
}
