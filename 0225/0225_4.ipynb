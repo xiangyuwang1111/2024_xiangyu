{
 "cells": [
  {
   "cell_type": "code",
   "execution_count": null,
   "metadata": {},
   "outputs": [],
   "source": [
    "#導入函式庫\n",
    "import secrets\n",
    "secrets.token_hex()"
   ]
  },
  {
   "cell_type": "code",
   "execution_count": null,
   "metadata": {},
   "outputs": [],
   "source": [
    "#導入函式庫\n",
    "#randint用於產生範圍內的隨機數\n",
    "import random\n",
    "i=random.randint(1,200)\n",
    "print(i)"
   ]
  },
  {
   "cell_type": "code",
   "execution_count": null,
   "metadata": {},
   "outputs": [],
   "source": [
    "#隨機產生a,b,c\n",
    "random.choice(['a','b','c'])"
   ]
  },
  {
   "cell_type": "code",
   "execution_count": null,
   "metadata": {},
   "outputs": [],
   "source": [
    "import random\n",
    "import pyinputplus as pyip\n",
    "print(\"========猜數字遊戲========\\n\")\n",
    "x=random.randint(1,100)\n",
    "count=0\n",
    "m=1\n",
    "M=100\n",
    "while(1):\n",
    "    ans=pyip.inputInt(f\"猜數字({m}-{M}):\",min=m,max=M)\n",
    "    count+=1\n",
    "    if(ans<x):\n",
    "        print(\"大一點!\")\n",
    "        m=ans\n",
    "    elif(ans>x):\n",
    "        print(\"小一點!\")\n",
    "        M=ans\n",
    "    else:\n",
    "        print(f\"猜中了!猜了{count}次\\n\")\n",
    "        break"
   ]
  },
  {
   "cell_type": "code",
   "execution_count": 17,
   "metadata": {},
   "outputs": [
    {
     "name": "stdout",
     "output_type": "stream",
     "text": [
      "========猜數字遊戲========\n",
      "\n",
      "小一點\n"
     ]
    }
   ],
   "source": [
    "import random\n",
    "print(\"========猜數字遊戲========\\n\")\n",
    "x=random.randint(1,100)\n",
    "m=1\n",
    "M=100\n",
    "count=0\n",
    "while(1):\n",
    "    try:\n",
    "        ans=int(input(f\"猜數字遊戲({m}-{M})\"))\n",
    "        count+=1\n",
    "        if(ans>=m and ans<=M):\n",
    "            if(ans>x):\n",
    "                print(\"小一點\")\n",
    "                M=ans\n",
    "            elif(ans<x):\n",
    "                print(\"大一點\")\n",
    "                m=ans\n",
    "            else:\n",
    "                print(f\"猜中了!猜了{count}次\\n\")\n",
    "                break\n",
    "        \n",
    "    except:\n",
    "        continue\n"
   ]
  }
 ],
 "metadata": {
  "kernelspec": {
   "display_name": "Python 3",
   "language": "python",
   "name": "python3"
  },
  "language_info": {
   "codemirror_mode": {
    "name": "ipython",
    "version": 3
   },
   "file_extension": ".py",
   "mimetype": "text/x-python",
   "name": "python",
   "nbconvert_exporter": "python",
   "pygments_lexer": "ipython3",
   "version": "3.10.13"
  }
 },
 "nbformat": 4,
 "nbformat_minor": 2
}
