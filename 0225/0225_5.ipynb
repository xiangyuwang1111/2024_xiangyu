{
 "cells": [
  {
   "cell_type": "code",
   "execution_count": null,
   "metadata": {},
   "outputs": [],
   "source": [
    "#自定義function\n",
    "import random\n",
    "import pyinputplus as pyip\n",
    "def playgame():\n",
    "    print(\"========猜數字遊戲========\\n\")\n",
    "    x=random.randint(1,100)\n",
    "    count=0\n",
    "    m=1\n",
    "    M=100\n",
    "    while(1):\n",
    "        ans=pyip.inputInt(f\"猜數字({m}-{M}):\",min=m,max=M)\n",
    "        count+=1\n",
    "        if(ans<x):\n",
    "            print(\"大一點!\")\n",
    "            m=ans\n",
    "        elif(ans>x):\n",
    "            print(\"小一點!\")\n",
    "            M=ans\n",
    "        else:\n",
    "            print(f\"猜中了!猜了{count}次\\n\")\n",
    "            break\n",
    "def main():\n",
    "    while(1):\n",
    "        playgame()\n",
    "        menu_value=pyip.inputMenu([\"yes\",\"no\"],prompt=\"還要繼續嗎?\\n\",numbered=True)\n",
    "        if(menu_value==\"no\"):break\n",
    "    print(\"遊戲結束\")\n",
    "#main()\n",
    "\n",
    "#python專案的主執行檔\n",
    "if(__name__==\"__main__\"):\n",
    "    main()\n",
    " "
   ]
  },
  {
   "cell_type": "code",
   "execution_count": null,
   "metadata": {},
   "outputs": [],
   "source": [
    "#->和:是提醒傳出的型態，可以不寫\n",
    "def circle_area(radius:float)->float:\n",
    "    pi=3.1415926\n",
    "    area=pi*radius**2\n",
    "    return area\n",
    "r=float(input(\"輸入圓半徑:\"))\n",
    "area=circle_area(r)\n",
    "print(f\"圓面積是{area}\")\n"
   ]
  }
 ],
 "metadata": {
  "kernelspec": {
   "display_name": "Python 3",
   "language": "python",
   "name": "python3"
  },
  "language_info": {
   "codemirror_mode": {
    "name": "ipython",
    "version": 3
   },
   "file_extension": ".py",
   "mimetype": "text/x-python",
   "name": "python",
   "nbconvert_exporter": "python",
   "pygments_lexer": "ipython3",
   "version": "3.10.13"
  }
 },
 "nbformat": 4,
 "nbformat_minor": 2
}
