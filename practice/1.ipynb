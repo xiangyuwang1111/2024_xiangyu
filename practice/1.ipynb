{
 "cells": [
  {
   "cell_type": "code",
   "execution_count": 51,
   "metadata": {},
   "outputs": [
    {
     "name": "stdout",
     "output_type": "stream",
     "text": [
      "enter a number:5\n",
      "0000*\n",
      "00***\n",
      "00*****\n",
      "*******\n",
      "*********\n"
     ]
    }
   ],
   "source": [
    "import pyinputplus as pyip\n",
    "n=pyip.inputNum(\"enter a number:\")\n",
    "print(n)\n",
    "for i in range(1,n+1):\n",
    "    if(i%2==0):\n",
    "        for space in range(1,int((2*n-2*i-1)/2)+1):\n",
    "            print('0',end='')\n",
    "    else:\n",
    "        for space in range(1,int((2*n-2*i-1+1)/2)+1):\n",
    "            print('0',end='')\n",
    "    for star in range(1,2*i):\n",
    "        print('*',end='')\n",
    "    print()\n",
    "\n"
   ]
  }
 ],
 "metadata": {
  "kernelspec": {
   "display_name": "Python 3",
   "language": "python",
   "name": "python3"
  },
  "language_info": {
   "codemirror_mode": {
    "name": "ipython",
    "version": 3
   },
   "file_extension": ".py",
   "mimetype": "text/x-python",
   "name": "python",
   "nbconvert_exporter": "python",
   "pygments_lexer": "ipython3",
   "version": "3.10.13"
  }
 },
 "nbformat": 4,
 "nbformat_minor": 2
}
