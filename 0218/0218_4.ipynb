{
 "cells": [
  {
   "cell_type": "code",
   "execution_count": 1,
   "metadata": {},
   "outputs": [
    {
     "name": "stdout",
     "output_type": "stream",
     "text": [
      "輸入學生分數60\n",
      "甲\n"
     ]
    }
   ],
   "source": [
    "import pyinputplus as pyip\n",
    "\n",
    "scores=pyip.inputInt(\"輸入學生分數:\")\n",
    "print(scores)\n",
    "if(scores<60):print(\"不及格\")\n",
    "elif(scores>=60 and scores<80):print(\"甲\")\n",
    "else:print(\"優\")"
   ]
  },
  {
   "cell_type": "code",
   "execution_count": null,
   "metadata": {},
   "outputs": [],
   "source": [
    "import pyinputplus as pyip\n",
    "\n",
    "scores=pyip.inputInt(\"輸入學生分數:\")\n",
    "print(scores)\n",
    "if(scores<60):print(\"不及格\")\n",
    "elif(scores<80):print(\"甲\")\n",
    "#執行到elif已經可以確定scores>=60\n",
    "else:print(\"優\")"
   ]
  }
 ],
 "metadata": {
  "kernelspec": {
   "display_name": "Python 3",
   "language": "python",
   "name": "python3"
  },
  "language_info": {
   "codemirror_mode": {
    "name": "ipython",
    "version": 3
   },
   "file_extension": ".py",
   "mimetype": "text/x-python",
   "name": "python",
   "nbconvert_exporter": "python",
   "pygments_lexer": "ipython3",
   "version": "3.10.13"
  }
 },
 "nbformat": 4,
 "nbformat_minor": 2
}
