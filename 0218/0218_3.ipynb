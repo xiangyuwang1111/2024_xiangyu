{
 "cells": [
  {
   "cell_type": "code",
   "execution_count": 15,
   "metadata": {},
   "outputs": [
    {
     "name": "stdout",
     "output_type": "stream",
     "text": [
      "請輸入學生分數(最高300分):300.0\n",
      "是否符合加分條件(請選擇1或2)\n",
      "1. 是\n",
      "2. 否\n",
      "學生分數為300\n"
     ]
    }
   ],
   "source": [
    "\n",
    "import pyinputplus as pyip\n",
    "\n",
    "scores:float = pyip.inputFloat(\"請輸入學生分數(最高300分):\",min=0,max=300)\n",
    "print(scores)\n",
    "is_add:str=pyip.inputMenu([\"是\",\"否\"],prompt=\"是否符合加分條件(請選擇1或2)\\n\",numbered=True)\n",
    "if(is_add=='是'):\n",
    "    scores*=1.5\n",
    "    if(scores>=300):scores=300\n",
    "print(f\"學生分數為{scores:.0f}\")\n",
    "\n"
   ]
  },
  {
   "cell_type": "code",
   "execution_count": 9,
   "metadata": {},
   "outputs": [
    {
     "name": "stdout",
     "output_type": "stream",
     "text": [
      "在120-250之間\n"
     ]
    }
   ],
   "source": [
    "#巢狀判斷\n",
    "height=int(input(\"請輸入身高(公分,120-250):\"))\n",
    "if(height>=120):\n",
    "    if(height<=250):print(\"在120-250之間\")\n",
    "    else: print(\"大於250,不在範圍內\")\n",
    "else:print(\"小於120,不在範圍內\")\n"
   ]
  },
  {
   "cell_type": "code",
   "execution_count": null,
   "metadata": {},
   "outputs": [],
   "source": []
  }
 ],
 "metadata": {
  "kernelspec": {
   "display_name": "Python 3",
   "language": "python",
   "name": "python3"
  },
  "language_info": {
   "codemirror_mode": {
    "name": "ipython",
    "version": 3
   },
   "file_extension": ".py",
   "mimetype": "text/x-python",
   "name": "python",
   "nbconvert_exporter": "python",
   "pygments_lexer": "ipython3",
   "version": "3.10.13"
  }
 },
 "nbformat": 4,
 "nbformat_minor": 2
}
