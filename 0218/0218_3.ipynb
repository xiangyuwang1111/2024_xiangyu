{
 "cells": [
  {
   "cell_type": "code",
   "execution_count": 3,
   "metadata": {},
   "outputs": [
    {
     "name": "stdout",
     "output_type": "stream",
     "text": [
      "請輸入學生分數(最高300分:Number must be at maximum 300.\n",
      "請輸入學生分數(最高300分:'是' is not an integer.\n",
      "請輸入學生分數(最高300分:Blank values are not allowed.\n",
      "請輸入學生分數(最高300分:300\n",
      "是否符合加分條件(請選擇1或2)\n",
      "1. 是\n",
      "2. 否\n",
      "'300' is not a valid choice.\n",
      "是否符合加分條件(請選擇1或2)\n",
      "1. 是\n",
      "2. 否\n",
      "學生分數為300\n"
     ]
    }
   ],
   "source": [
    "\n",
    "import pyinputplus as pyip\n",
    "\n",
    "scores:float=pyip.inputInt(\"請輸入學生分數(最高300分):\",min=0,max=300)\n",
    "print(scores)\n",
    "is_add:str=pyip.inputMenu([\"是\",\"否\"],prompt=\"是否符合加分條件(請選擇1或2)\\n\",numbered=True)\n",
    "if(is_add=='是'):\n",
    "    scores*=1.5\n",
    "    if(scores>=300):scores=300\n",
    "print(f\"學生分數為{scores:.0f}\")\n",
    "\n"
   ]
  }
 ],
 "metadata": {
  "kernelspec": {
   "display_name": "Python 3",
   "language": "python",
   "name": "python3"
  },
  "language_info": {
   "codemirror_mode": {
    "name": "ipython",
    "version": 3
   },
   "file_extension": ".py",
   "mimetype": "text/x-python",
   "name": "python",
   "nbconvert_exporter": "python",
   "pygments_lexer": "ipython3",
   "version": "3.10.13"
  }
 },
 "nbformat": 4,
 "nbformat_minor": 2
}
