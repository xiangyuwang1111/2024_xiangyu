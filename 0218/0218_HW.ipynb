{
 "cells": [
  {
   "cell_type": "code",
   "execution_count": 2,
   "metadata": {},
   "outputs": [
    {
     "name": "stdout",
     "output_type": "stream",
     "text": [
      "請輸入身高(公分,120-250):120\n",
      "請輸入體重(公斤,30-250):240\n",
      "您的BMI是166.67\n",
      "您的體重:重度肥胖\n"
     ]
    }
   ],
   "source": [
    "import pyinputplus as pyip\n",
    "\n",
    "height=pyip.inputInt(\"請輸入身高(公分,120-250):\",min=120,max=250)\n",
    "print(height)\n",
    "weight=pyip.inputInt(\"請輸入體重(公斤,30-250):\",min=30,max=250)\n",
    "print(weight)\n",
    "BMI=weight/((height/100)**2)\n",
    "print(f\"您的BMI是{BMI:.2f}\")\n",
    "if(BMI<18.5):print(\"您的體重:體重過輕\")\n",
    "elif(BMI>=18.5 and BMI<24):print(\"您的體重:正常範圍\")\n",
    "elif(BMI>=24 and BMI<27):print(\"您的體重:輕度肥胖\")\n",
    "elif(BMI>=27 and BMI<30):print(\"您的體重:中度肥胖\")\n",
    "else:print(\"您的體重:重度肥胖\")"
   ]
  }
 ],
 "metadata": {
  "kernelspec": {
   "display_name": "Python 3",
   "language": "python",
   "name": "python3"
  },
  "language_info": {
   "codemirror_mode": {
    "name": "ipython",
    "version": 3
   },
   "file_extension": ".py",
   "mimetype": "text/x-python",
   "name": "python",
   "nbconvert_exporter": "python",
   "pygments_lexer": "ipython3",
   "version": "3.10.13"
  }
 },
 "nbformat": 4,
 "nbformat_minor": 2
}
