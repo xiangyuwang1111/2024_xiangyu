{
 "cells": [
  {
   "cell_type": "code",
   "execution_count": null,
   "metadata": {},
   "outputs": [],
   "source": [
    "#引入既有的函式庫\n",
    "import pyinputplus as pyip\n",
    "\n",
    "print(\"請輸入數字\")\n",
    "result=pyip.inputNum()\n",
    "result"
   ]
  },
  {
   "cell_type": "code",
   "execution_count": null,
   "metadata": {},
   "outputs": [],
   "source": [
    "#說明書\n",
    "help(pyip.inputNum)"
   ]
  },
  {
   "cell_type": "code",
   "execution_count": null,
   "metadata": {},
   "outputs": [],
   "source": [
    "#引數名稱的呼叫可以不依照順序\n",
    "value=pyip.inputNum(prompt=\"請輸入數字:\",min=0,max=300)\n",
    "print(value)"
   ]
  },
  {
   "cell_type": "code",
   "execution_count": null,
   "metadata": {},
   "outputs": [],
   "source": [
    "#引數值的呼叫要依照順序\n",
    "#10是default值???\n",
    "value=pyip.inputInt(\"請輸入數字:\",10)\n",
    "print(value)"
   ]
  },
  {
   "cell_type": "code",
   "execution_count": null,
   "metadata": {},
   "outputs": [],
   "source": [
    "#混合呼叫，前面使用引數值呼叫，後面使用引數名稱呼叫\n",
    "#使用引數名稱呼叫後，全都要用引數名稱呼叫\n",
    "value=pyip.inputNum(\"請輸入數字\",max=300,min=10)\n",
    "print(value)"
   ]
  },
  {
   "cell_type": "code",
   "execution_count": null,
   "metadata": {},
   "outputs": [],
   "source": [
    "is_yes=pyip.inputYesNo(\"請輸入yes或no:\")\n",
    "print(is_yes)"
   ]
  },
  {
   "cell_type": "code",
   "execution_count": null,
   "metadata": {},
   "outputs": [
    {
     "name": "stdout",
     "output_type": "stream",
     "text": [
      "請輸入下列三個(早上,中午,下午):早上好!\n"
     ]
    }
   ],
   "source": [
    "state=pyip.inputChoice([\"早上\",\"中午\",\"下午\"],\"請輸入下列三個(早上,中午,下午):\")\n",
    "print(f\"{state}好!\")"
   ]
  },
  {
   "cell_type": "code",
   "execution_count": null,
   "metadata": {},
   "outputs": [
    {
     "name": "stdout",
     "output_type": "stream",
     "text": [
      "請輸入下列三個(早上,中午,下午):早上好!\n"
     ]
    }
   ],
   "source": [
    "state=pyip.inputChoice(choices=[\"早上\",\"中午\",\"下午\"],prompt=\"請輸入下列三個(早上,中午,下午):\")\n",
    "print(f\"{state}好!\")"
   ]
  },
  {
   "cell_type": "code",
   "execution_count": null,
   "metadata": {},
   "outputs": [],
   "source": [
    "state=pyip.inputMenu([\"早上\",\"中午\",\"下午\"],\n",
    "                     prompt=\"請輸入下列三個(早上,中午,下午):\\n\",\n",
    "                     numbered=True,\n",
    "                     blank=True\n",
    "                    )\n",
    "print(state)"
   ]
  }
 ],
 "metadata": {
  "kernelspec": {
   "display_name": "Python 3",
   "language": "python",
   "name": "python3"
  },
  "language_info": {
   "codemirror_mode": {
    "name": "ipython",
    "version": 3
   },
   "file_extension": ".py",
   "mimetype": "text/x-python",
   "name": "python",
   "nbconvert_exporter": "python",
   "pygments_lexer": "ipython3",
   "version": "3.10.14"
  }
 },
 "nbformat": 4,
 "nbformat_minor": 2
}
