{
 "cells": [
  {
   "cell_type": "code",
   "execution_count": 2,
   "metadata": {},
   "outputs": [
    {
     "name": "stdout",
     "output_type": "stream",
     "text": [
      "學生總分為300\n"
     ]
    }
   ],
   "source": [
    "try:\n",
    "    scores=int(input(\"輸入學生分數(最高300分)\"))\n",
    "except:\n",
    "    print(\"輸入格式有錯誤\")\n",
    "else:\n",
    "    is_add:str=input(\"學生是否符合加分條件(y,n)\")\n",
    "    if(is_add=='y'):\n",
    "        scores*=1.5\n",
    "        if(scores>300):scores=300\n",
    "    else:print(\"學生沒有加分\")\n",
    "    print(f\"學生總分為{scores:.0f}\")"
   ]
  },
  {
   "cell_type": "code",
   "execution_count": null,
   "metadata": {},
   "outputs": [],
   "source": [
    "try:\n",
    "    scores=int(input(\"輸入學生分數(最高300分)\"))\n",
    "    is_add:str=input(\"學生是否符合加分條件(y,n)\")\n",
    "    if(is_add=='y'):\n",
    "        scores*=1.5\n",
    "        if(scores>300):scores=300\n",
    "    else:print(\"學生沒有加分\")\n",
    "    \n",
    "    print(f\"學生總分為{scores:.0f}\")\n",
    "except:\n",
    "    print(\"輸入格式有錯誤\")"
   ]
  }
 ],
 "metadata": {
  "kernelspec": {
   "display_name": "Python 3",
   "language": "python",
   "name": "python3"
  },
  "language_info": {
   "codemirror_mode": {
    "name": "ipython",
    "version": 3
   },
   "file_extension": ".py",
   "mimetype": "text/x-python",
   "name": "python",
   "nbconvert_exporter": "python",
   "pygments_lexer": "ipython3",
   "version": "3.10.13"
  }
 },
 "nbformat": 4,
 "nbformat_minor": 2
}
