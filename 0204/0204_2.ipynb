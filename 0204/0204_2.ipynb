{
 "cells": [
  {
   "cell_type": "code",
   "execution_count": 4,
   "metadata": {},
   "outputs": [
    {
     "name": "stdout",
     "output_type": "stream",
     "text": [
      "Your height: 176\n",
      "Your weight: 67.8\n",
      "Your BMI: 21.887913223140497\n"
     ]
    }
   ],
   "source": [
    "height=eval(input(\"Enter your height(cm)\"))\n",
    "weight=eval(input(\"Enter your weight(kg)\"))\n",
    "BMI=weight/(height/100)**2\n",
    "print(\"Your height:\", height)\n",
    "print(\"Your weight:\", weight)\n",
    "print(\"Your BMI:\", BMI)"
   ]
  },
  {
   "cell_type": "code",
   "execution_count": 5,
   "metadata": {},
   "outputs": [
    {
     "name": "stdout",
     "output_type": "stream",
     "text": [
      "Your height: 176\n",
      "Your weight: 67.8\n",
      "Your BMI: 21.8879\n"
     ]
    }
   ],
   "source": [
    "height=eval(input(\"Enter your height(cm)\"))\n",
    "weight=eval(input(\"Enter your weight(kg)\"))\n",
    "BMI=weight/(height/100)**2\n",
    "BMI=round(BMI,4)\n",
    "print(\"Your height:\", height)\n",
    "print(\"Your weight:\", weight)\n",
    "print(\"Your BMI:\", BMI)"
   ]
  },
  {
   "cell_type": "code",
   "execution_count": 10,
   "metadata": {},
   "outputs": [
    {
     "name": "stdout",
     "output_type": "stream",
     "text": [
      "Your height:176\n",
      "Your weight:67.8\n",
      "Your BMI:21.89\n"
     ]
    }
   ],
   "source": [
    "height=eval(input(\"Enter your height(cm)\"))\n",
    "weight=eval(input(\"Enter your weight(kg)\"))\n",
    "BMI=weight/(height/100)**2\n",
    "BMI=round(BMI,4)\n",
    "print(f\"Your height:{height}\")\n",
    "print(f\"Your weight:{weight}\")\n",
    "#字串格式化的文字語法\n",
    "print(f\"Your BMI:{BMI:.2f}\")"
   ]
  },
  {
   "cell_type": "code",
   "execution_count": 14,
   "metadata": {},
   "outputs": [
    {
     "name": "stdout",
     "output_type": "stream",
     "text": [
      "梯形的上底5公分,下底16公分,高3公分\n",
      "梯形的面積31.50平方公分\n"
     ]
    }
   ],
   "source": [
    "up=eval(input(\"請輸入梯形的上底(公分)\"))\n",
    "down=eval(input(\"請輸入梯形的下底(公分)\"))\n",
    "height=eval(input(\"請輸入梯形的高(公分)\"))\n",
    "area=(up+down)*height/2\n",
    "print(f\"梯形的上底{up}公分,下底{down}公分,高{height}公分\")\n",
    "print(f\"梯形的面積{area:.2f}平方公分\")"
   ]
  },
  {
   "cell_type": "code",
   "execution_count": 3,
   "metadata": {},
   "outputs": [
    {
     "name": "stdout",
     "output_type": "stream",
     "text": [
      "斜邊:50,對邊:25\n",
      "斜邊:30.00\n"
     ]
    }
   ],
   "source": [
    "import math\n",
    "side1=eval(input(\"請輸入直角三角形的斜邊\"))\n",
    "side2=eval(input(\"請輸入直角三角形的對邊\"))\n",
    "radian=math.asin(side2/side1)\n",
    "degree=math.degrees(radian)\n",
    "print(f\"斜邊:{side1},對邊:{side2}\")\n",
    "print(f\"角度:{degree:.2f}\")"
   ]
  },
  {
   "cell_type": "code",
   "execution_count": 4,
   "metadata": {},
   "outputs": [
    {
     "name": "stdout",
     "output_type": "stream",
     "text": [
      "1,3,5,7,9,11的平均是6\n",
      "1,3,5,7,9,11的中間值是6.0\n",
      "1,3,5,7,9,11的標準差是3.7416573867739413\n"
     ]
    }
   ],
   "source": [
    "import statistics\n",
    "mean_value=statistics.mean([1,3,5,7,9,11])\n",
    "print(f\"1,3,5,7,9,11的平均是{mean_value}\")\n",
    "\n",
    "median_value=statistics.median([1,3,5,7,9,11])\n",
    "print(f\"1,3,5,7,9,11的中間值是{median_value}\")\n",
    "\n",
    "std_value=statistics.stdev([1,3,5,7,9,11])\n",
    "print(f\"1,3,5,7,9,11的標準差是{std_value}\")"
   ]
  },
  {
   "cell_type": "code",
   "execution_count": 5,
   "metadata": {},
   "outputs": [
    {
     "name": "stdout",
     "output_type": "stream",
     "text": [
      "10\n"
     ]
    }
   ],
   "source": [
    "total=0\n",
    "value=eval(input(\"Enter number 1\"))\n",
    "total+=value\n",
    "value=eval(input(\"Enter number 2\"))\n",
    "total+=value\n",
    "value=eval(input(\"Enter number 3\"))\n",
    "total+=value\n",
    "print(total)\n"
   ]
  }
 ],
 "metadata": {
  "kernelspec": {
   "display_name": "Python 3",
   "language": "python",
   "name": "python3"
  },
  "language_info": {
   "codemirror_mode": {
    "name": "ipython",
    "version": 3
   },
   "file_extension": ".py",
   "mimetype": "text/x-python",
   "name": "python",
   "nbconvert_exporter": "python",
   "pygments_lexer": "ipython3",
   "version": "3.10.13"
  }
 },
 "nbformat": 4,
 "nbformat_minor": 2
}
