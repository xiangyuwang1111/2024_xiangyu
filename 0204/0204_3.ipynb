{
 "cells": [
  {
   "cell_type": "code",
   "execution_count": 1,
   "metadata": {},
   "outputs": [
    {
     "name": "stdout",
     "output_type": "stream",
     "text": [
      "5>3\n"
     ]
    }
   ],
   "source": [
    "if 5>3:\n",
    "    print(\"5>3\")\n",
    "\n",
    "else:\n",
    "    print(\"hi\")"
   ]
  },
  {
   "cell_type": "code",
   "execution_count": 3,
   "metadata": {},
   "outputs": [
    {
     "name": "stdout",
     "output_type": "stream",
     "text": [
      "學生總分為300\n"
     ]
    }
   ],
   "source": [
    "scores=int(input(\"輸入學生分數(最高300分)\"))\n",
    "is_add:str=input(\"學生是否符合加分條件(y,n)\")\n",
    "if(is_add=='y'):\n",
    "    scores*=1.5\n",
    "    if(scores>300):scores=300\n",
    "else:print(\"學生沒有加分\")\n",
    "print(f\"學生總分為{scores:.0f}\")"
   ]
  },
  {
   "cell_type": "code",
   "execution_count": 4,
   "metadata": {},
   "outputs": [
    {
     "name": "stdout",
     "output_type": "stream",
     "text": [
      "它是熊\n"
     ]
    }
   ],
   "source": [
    "is_furry=input(\"請問動物有毛嗎?(y,n)\")\n",
    "is_small=input(\"請問動物是小的嗎?(y,n)\")\n",
    "if(is_furry=='y'):\n",
    "    if(is_small=='y'):print(\"它是貓\")\n",
    "    else:print(\"它是熊\")\n",
    "else:\n",
    "    if(is_small=='y'):print(\"它是小蜥蜴\")\n",
    "    else:print(\"它是人類或沒有毛的熊\")"
   ]
  }
 ],
 "metadata": {
  "kernelspec": {
   "display_name": "Python 3",
   "language": "python",
   "name": "python3"
  },
  "language_info": {
   "codemirror_mode": {
    "name": "ipython",
    "version": 3
   },
   "file_extension": ".py",
   "mimetype": "text/x-python",
   "name": "python",
   "nbconvert_exporter": "python",
   "pygments_lexer": "ipython3",
   "version": "2.7.0"
  }
 },
 "nbformat": 4,
 "nbformat_minor": 2
}
