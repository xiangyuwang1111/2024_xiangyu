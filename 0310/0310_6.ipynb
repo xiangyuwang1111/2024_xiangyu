{
 "cells": [
  {
   "cell_type": "code",
   "execution_count": null,
   "metadata": {},
   "outputs": [],
   "source": [
    "with open('names.txt', encoding='utf-8') as file:\n",
    "    names_str=file.read()\n",
    "names:list[str]=names_str.split(sep='\\n')\n",
    "names"
   ]
  },
  {
   "cell_type": "code",
   "execution_count": null,
   "metadata": {},
   "outputs": [],
   "source": [
    "import random\n",
    "len(names)\n",
    "num=50\n",
    "randomnames:list[str]=random.choices(names,k=num)\n",
    "randomnames"
   ]
  },
  {
   "cell_type": "code",
   "execution_count": 16,
   "metadata": {},
   "outputs": [
    {
     "data": {
      "text/plain": [
       "Person(name='Sean', height=172, weight=61)"
      ]
     },
     "execution_count": 16,
     "metadata": {},
     "output_type": "execute_result"
    }
   ],
   "source": [
    "from pydantic import BaseModel\n",
    "class Person(BaseModel):\n",
    "    name:str\n",
    "    height:int\n",
    "    weight:int\n",
    "#實體轉為dict\n",
    "person1=Person(name='Sean', height=random.randint(120,180), weight=random.randint(50,100))\n",
    "person1.model_dump()\n",
    "#dict轉為實體\n",
    "person2=Person.model_validate({'name':'Sean',\n",
    "                      'height':random.randint(120,180),\n",
    "                      'weight':random.randint(50,100)\n",
    "                      })\n",
    "person2"
   ]
  }
 ],
 "metadata": {
  "kernelspec": {
   "display_name": "Python 3",
   "language": "python",
   "name": "python3"
  },
  "language_info": {
   "codemirror_mode": {
    "name": "ipython",
    "version": 3
   },
   "file_extension": ".py",
   "mimetype": "text/x-python",
   "name": "python",
   "nbconvert_exporter": "python",
   "pygments_lexer": "ipython3",
   "version": "3.10.14"
  }
 },
 "nbformat": 4,
 "nbformat_minor": 2
}
