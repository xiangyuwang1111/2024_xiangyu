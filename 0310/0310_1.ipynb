{
 "cells": [
  {
   "cell_type": "code",
   "execution_count": null,
   "metadata": {},
   "outputs": [],
   "source": [
    "#review\n",
    "import random\n",
    "students:list[dict]=[]\n",
    "for _ in range(50):\n",
    "    student={'Chinese':random.randint(50,100),'English':random.randint(50,100),'Math':random.randint(50,100)}\n",
    "    students.append(student)\n",
    "students"
   ]
  },
  {
   "cell_type": "code",
   "execution_count": null,
   "metadata": {},
   "outputs": [],
   "source": [
    "#comprehension 快速建立1\n",
    "import random\n",
    "students:list[dict]=[]\n",
    "for _ in range(50):\n",
    "    student={}\n",
    "    student['Chinese']=random.randint(50,100)\n",
    "    student['English']=random.randint(50,100)\n",
    "    student['Math']=random.randint(50,100)\n",
    "    students.append(student)\n",
    "students"
   ]
  },
  {
   "cell_type": "code",
   "execution_count": null,
   "metadata": {},
   "outputs": [],
   "source": [
    "#comprehension 快速建立2\n",
    "import random\n",
    "students:list[dict]=[]\n",
    "for _ in range(50):\n",
    "    student:dict[str:int]={}\n",
    "    for subject in ['Chinese','English','Math']:\n",
    "        student[subject]=random.randint(50,100)\n",
    "    students.append(student)\n",
    "students"
   ]
  },
  {
   "cell_type": "code",
   "execution_count": null,
   "metadata": {},
   "outputs": [],
   "source": [
    "import random\n",
    "import pyinputplus as pyip\n",
    "num=pyip.inputNum('How many students?')\n",
    "students:list[dict]=[]\n",
    "for _ in range(num):\n",
    "    student:dict[str:int]={}\n",
    "    for subject in ['Chinese','English','Math']:\n",
    "        student[subject]=random.randint(50,100)\n",
    "    students.append(student)\n",
    "students"
   ]
  }
 ],
 "metadata": {
  "kernelspec": {
   "display_name": "Python 3",
   "language": "python",
   "name": "python3"
  },
  "language_info": {
   "codemirror_mode": {
    "name": "ipython",
    "version": 3
   },
   "file_extension": ".py",
   "mimetype": "text/x-python",
   "name": "python",
   "nbconvert_exporter": "python",
   "pygments_lexer": "ipython3",
   "version": "3.10.14"
  }
 },
 "nbformat": 4,
 "nbformat_minor": 2
}
