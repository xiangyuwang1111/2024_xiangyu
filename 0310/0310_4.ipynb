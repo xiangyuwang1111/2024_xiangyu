{
 "cells": [
  {
   "cell_type": "code",
   "execution_count": 1,
   "metadata": {},
   "outputs": [
    {
     "data": {
      "text/plain": [
       "{'國文': 78, '英文': 59, '數學': 100}"
      ]
     },
     "execution_count": 1,
     "metadata": {},
     "output_type": "execute_result"
    }
   ],
   "source": [
    "#建立學生分數\n",
    "score={'國文':78,\n",
    "       '英文':59,\n",
    "       '數學':100,\n",
    "       '地理':66,\n",
    "       '歷史':88\n",
    "       }\n",
    "score"
   ]
  },
  {
   "cell_type": "code",
   "execution_count": 6,
   "metadata": {},
   "outputs": [
    {
     "name": "stdout",
     "output_type": "stream",
     "text": [
      "78 59 100\n"
     ]
    }
   ],
   "source": [
    "#自訂義class Student 先建立實體 再存入屬性\n",
    "class Student:\n",
    "    pass\n",
    "stu1=Student()\n",
    "stu1.國文=78\n",
    "stu1.英文=59\n",
    "stu1.數學=100\n",
    "print(stu1.國文,stu1.英文,stu1.數學,sep=' ')"
   ]
  },
  {
   "cell_type": "code",
   "execution_count": 8,
   "metadata": {},
   "outputs": [
    {
     "name": "stdout",
     "output_type": "stream",
     "text": [
      "國文=100 英文=70 數學=80\n"
     ]
    }
   ],
   "source": [
    "from pydantic import BaseModel\n",
    "class Student(BaseModel):\n",
    "    #一定要有Type\n",
    "    國文:int\n",
    "    英文:int\n",
    "    數學:int\n",
    "stu=Student(國文=100,英文=70,數學=80)\n",
    "print(stu)"
   ]
  }
 ],
 "metadata": {
  "kernelspec": {
   "display_name": "Python 3",
   "language": "python",
   "name": "python3"
  },
  "language_info": {
   "codemirror_mode": {
    "name": "ipython",
    "version": 3
   },
   "file_extension": ".py",
   "mimetype": "text/x-python",
   "name": "python",
   "nbconvert_exporter": "python",
   "pygments_lexer": "ipython3",
   "version": "3.10.14"
  }
 },
 "nbformat": 4,
 "nbformat_minor": 2
}
